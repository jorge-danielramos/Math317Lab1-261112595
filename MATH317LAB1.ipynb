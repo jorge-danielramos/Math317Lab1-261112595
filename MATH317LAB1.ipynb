{
 "cells": [
  {
   "cell_type": "markdown",
   "id": "82002e7a",
   "metadata": {},
   "source": [
    "Jorge-Daniel Ramos #261112595"
   ]
  },
  {
   "cell_type": "markdown",
   "id": "2089978a",
   "metadata": {},
   "source": [
    "\n",
    "# PART1.1 NAIVE LOG and MY LOG\n",
    "In the naivelog implementation, when given an input x, we are square rooting x n times which is the equivalent of raising it to the power of (1/2^n) and then substracting 1 from the result to then multiply the new result by 2^n. This is an argument halving method that's less performing than mylog's method. $ naivelog(x) \\approx 2^n (x^{2^{-n}} - 1) $\n",
    "\n",
    "Case 1: (x >= 1)\n",
    "    In this case, when n increases, then the (2^n)th root of x approaches 1 by slowly decreasing. Hence, when n is large, y ~ 1 and so we would have cancellation of digits when calculating $l = y - 1 $ (l ~ 0 = 1 - 1). l would be a very small positive FP number. This error in cancellation of digits will then propagate when multipliying l by 2^n to get the answer for log(2).\n",
    "    When $ x=1 $ then after the $ 2^n $ th roots of y, y will stay 1 and l = y - 1 = 0 and after multiplying l by $ 2^n $ then it will stay 0 still which is the correct answer.\n",
    "    \n",
    "Case 2: (0 <= x < 1)\n",
    "    In this case, when n increases, the the (2^n)th root of x approaches 1 by slowly increasing. Hence, when n is large, y ~ 1 and so we would have cancellation of digits when calculating l = y - 1 (l ~ 0 = 1 - 1). l would be a very small negative FP number. This error in cancellation of digits will then propagate when multipliying l by 2^n to get the answer for log(2). \n",
    "    When $ x=0 $ then after the $2^n$ th roots of y, y will stay 0 and $l = y - 1 = -1$ and after multiplying l by $ 2^n $ then it will give $ -2^n $ which is incorrect because log(0) is undefined.\n",
    "    \n",
    "  \n",
    "  \n",
    "In the mylog implementation, when given an input x, we are substracting x by 1 to give z: $ z = x-1$ and then using this method of argument reduction: $ z= \\frac{z}{1+ \\sqrt{z+1}} $ and then reinputing z into that same equation n times making z very small so that it can be multiplied by $ 2^n$ to give the precise result.\n",
    "\n",
    "Case 1: (x >= 1)\n",
    "    In this case, when n increases, then the value $z=x-1$ decreases after every iteration of $ z= \\frac{z}{1+ \\sqrt{z+1}} $ and approaches 0. After this iterative step, l = z ~ 0 if n is large and then we multiply l by $2^n$ which increases the value to give the estimated result. If $x=1$ then l = 0 and so the return result will be 0 which is the correct output because log(1) = 0.\n",
    "\n",
    "Case 2: (0 <= x < 1)\n",
    "    In this case, when n increases, then the value z is negative after $ z=x-1$ because $x< 1$ and so in the iteration step, after the first iteration, we get a negative value $z_1$ that is lower in magnitude than the original $z_0$ and with multiple iterations z approaches 0 from the negatives so l ~ $0^-$ if n is large and then we multiply l by $2^n$ which increases the negative value to give the estimated result because an log(a) where $0<=a<1$ will give us a negative number. If $x=0$ then $z=-1$ and after n iterations, $l = -1$ still so then after multiplying l by $2^n$ times, it will give $mylog(0) = -2^n$ which is not the correct answer since it should by undefined.\n",
    "\n",
    "\n",
    "Role of n: To give more precision by iterating the operations inside the for loops. More correct decimals will be reached if n is big especially in the mylog implementation because in the naivelog implementation if n is sufficiently big, naivelog will lose its precision and plummet to 0."
   ]
  },
  {
   "cell_type": "code",
   "execution_count": 52,
   "id": "519ddc9e",
   "metadata": {},
   "outputs": [],
   "source": [
    "import math\n",
    "#Logarithm\n",
    "def naivelog(x):\n",
    "  n=15\n",
    "  y = x\n",
    "  for i in range(n):\n",
    "    y = math.sqrt(y)\n",
    "  l = y-1\n",
    "  for i in range(n):\n",
    "    l = l*2\n",
    "  return l\n",
    "\n",
    "def mylog(x):\n",
    "  n=15\n",
    "  z = x-1\n",
    "  for i in range(n):\n",
    "    z = z/(1+math.sqrt(1+z))\n",
    "  l = z\n",
    "  for i in range(n):\n",
    "    l = l*2\n",
    "  return l\n"
   ]
  },
  {
   "cell_type": "markdown",
   "id": "fed71ae1",
   "metadata": {},
   "source": [
    "# PART1.2 NAIVE LOG vs MY LOG\n"
   ]
  },
  {
   "cell_type": "markdown",
   "id": "0c6b9a67",
   "metadata": {},
   "source": [
    "Let's try to compute the logarithms of numbers 1 to 14 with both implementations and with parameter n changing."
   ]
  },
  {
   "cell_type": "code",
   "execution_count": 92,
   "id": "2bb72406",
   "metadata": {},
   "outputs": [],
   "source": [
    "def naivelog_n(n, x): #naivelog_n let's me input any n I want\n",
    "  y = x\n",
    "  for i in range(n):\n",
    "    y = math.sqrt(y)\n",
    "  l = y-1\n",
    "  for i in range(n):\n",
    "    l = l*2\n",
    "  return l\n",
    "def mylog_n(n, x): #mylog_n let's me input any n I want\n",
    "  z = x-1\n",
    "  for i in range(n):\n",
    "    z = z/(1+math.sqrt(1+z))\n",
    "  l = z\n",
    "  for i in range(n):\n",
    "    l = l*2\n",
    "  return l"
   ]
  },
  {
   "cell_type": "code",
   "execution_count": 93,
   "id": "777cb3dd",
   "metadata": {},
   "outputs": [
    {
     "name": "stdout",
     "output_type": "stream",
     "text": [
      "\n",
      " n = 15:\n",
      "x=1 | naivelogError: 0.0 --- mylogError: 0.0\n",
      "x=2 | naivelogError: 7.33118048590331e-06 --- mylogError: 7.3311828865385564e-06\n",
      "x=3 | naivelogError: 1.8416787324726513e-05 --- mylogError: 1.841678542136016e-05\n",
      "x=4 | naivelogError: 2.9324936239527588e-05 --- mylogError: 2.932493831786509e-05\n",
      "x=5 | naivelogError: 3.9525343868307417e-05 --- mylogError: 3.952534184148426e-05\n",
      "x=6 | naivelogError: 4.898774022832342e-05 --- mylogError: 4.8987739738270974e-05\n",
      "x=7 | naivelogError: 5.777956026009612e-05 --- mylogError: 5.77795602978437e-05\n",
      "x=8 | naivelogError: 6.598158012716127e-05 --- mylogError: 6.598157645676395e-05\n",
      "x=9 | naivelogError: 7.366796455210434e-05 --- mylogError: 7.366796497620953e-05\n",
      "x=10 | naivelogError: 8.090243988068124e-05 --- mylogError: 8.090243987313173e-05\n",
      "x=11 | naivelogError: 8.773867838307581e-05 --- mylogError: 8.77386779349898e-05\n",
      "x=12 | naivelogError: 9.42217558885794e-05 --- mylogError: 9.422175820050782e-05\n",
      "x=13 | naivelogError: 0.00010038965998360183 --- mylogError: 0.00010038966168623986\n",
      "x=14 | naivelogError: 0.00010627457281175978 --- mylogError: 0.00010627457526091177\n",
      "\n",
      " n = 20:\n",
      "x=1 | naivelogError: 0.0 --- mylogError: 0.0\n",
      "x=2 | naivelogError: 2.29147362529325e-07 --- mylogError: 2.290979003172211e-07\n",
      "x=3 | naivelogError: 5.756008338853036e-07 --- mylogError: 5.755183134503739e-07\n",
      "x=4 | naivelogError: 9.165054317694654e-07 --- mylogError: 9.163918031074303e-07\n",
      "x=5 | naivelogError: 1.2352021940831293e-06 --- mylogError: 1.2351473428484638e-06\n",
      "x=6 | naivelogError: 1.5309469740820703e-06 --- mylogError: 1.5308398371161047e-06\n",
      "x=7 | naivelogError: 1.8055674024797241e-06 --- mylogError: 1.805576634428263e-06\n",
      "x=8 | naivelogError: 2.0618413771877897e-06 --- mylogError: 2.0618820109064018e-06\n",
      "x=9 | naivelogError: 2.3020835393516847e-06 --- mylogError: 2.3020740584911437e-06\n",
      "x=10 | naivelogError: 2.5281527671339177e-06 --- mylogError: 2.528143877800204e-06\n",
      "x=11 | naivelogError: 2.741836476971571e-06 --- mylogError: 2.741768893699259e-06\n",
      "x=12 | naivelogError: 2.9445038207676077e-06 --- mylogError: 2.9443578433152595e-06\n",
      "x=13 | naivelogError: 3.1371150366332756e-06 --- mylogError: 3.13709763366532e-06\n",
      "x=14 | naivelogError: 3.3208712406640473e-06 --- mylogError: 3.3209941086020933e-06\n",
      "\n",
      " n = 25:\n",
      "x=1 | naivelogError: 0.0 --- mylogError: 0.0\n",
      "x=2 | naivelogError: 9.355234920072064e-09 --- mylogError: 7.15930781325369e-09\n",
      "x=3 | naivelogError: 1.9834087483516782e-08 --- mylogError: 1.7984941313997638e-08\n",
      "x=4 | naivelogError: 3.3611631033991785e-08 --- mylogError: 2.8637231475059366e-08\n",
      "x=5 | naivelogError: 3.7521363127623886e-08 --- mylogError: 3.8598336082884543e-08\n",
      "x=6 | naivelogError: 5.1541064305382633e-08 --- mylogError: 4.783871898617065e-08\n",
      "x=7 | naivelogError: 5.142133319147035e-08 --- mylogError: 5.64242368383816e-08\n",
      "x=8 | naivelogError: 6.531860785585764e-08 --- mylogError: 6.443377076337242e-08\n",
      "x=9 | naivelogError: 6.947049735472888e-08 --- mylogError: 7.193976570007976e-08\n",
      "x=10 | naivelogError: 7.667892010232435e-08 --- mylogError: 7.900443943498203e-08\n",
      "x=11 | naivelogError: 8.570449416822612e-08 --- mylogError: 8.568021359067757e-08\n",
      "x=12 | naivelogError: 9.069862150212771e-08 --- mylogError: 9.201111428325248e-08\n",
      "x=13 | naivelogError: 9.541550793912279e-08 --- mylogError: 9.803422607035372e-08\n",
      "x=14 | naivelogError: 1.0548005180410769e-07 --- mylogError: 1.0378098469487895e-07\n",
      "\n",
      " n = 30:\n",
      "x=1 | naivelogError: 0.0 --- mylogError: 0.0\n",
      "x=2 | naivelogError: 1.904654323148236e-09 --- mylogError: 2.2372836916417782e-10\n",
      "x=3 | naivelogError: 2.1858449161804572e-07 --- mylogError: 5.620293119790176e-10\n",
      "x=4 | naivelogError: 3.809308646296472e-09 --- mylogError: 8.949134766567113e-10\n",
      "x=5 | naivelogError: 2.0834779657086244e-07 --- mylogError: 1.2061980303457176e-09\n",
      "x=6 | naivelogError: 2.173874191768732e-08 --- mylogError: 1.494960377712573e-09\n",
      "x=7 | naivelogError: 1.720960847162445e-07 --- mylogError: 1.763258206111118e-09\n",
      "x=8 | naivelogError: 5.7139630804670105e-09 --- mylogError: 2.0135546563437856e-09\n",
      "x=9 | naivelogError: 1.9875040413452894e-07 --- mylogError: 2.2481172479160705e-09\n",
      "x=10 | naivelogError: 2.0644314258078111e-07 --- mylogError: 2.468887760898042e-09\n",
      "x=11 | naivelogError: 1.7506582672410786e-07 --- mylogError: 2.677504440384837e-09\n",
      "x=12 | naivelogError: 2.3643396129813254e-08 --- mylogError: 2.8753497360867186e-09\n",
      "x=13 | naivelogError: 8.339842638704908e-08 --- mylogError: 3.0635720627003593e-09\n",
      "x=14 | naivelogError: 1.7019143028207395e-07 --- mylogError: 3.2431586305392557e-09\n",
      "\n",
      " n = 35:\n",
      "x=1 | naivelogError: 0.0 --- mylogError: 0.0\n",
      "x=2 | naivelogError: 1.4286068202862268e-06 --- mylogError: 6.991629497576923e-12\n",
      "x=3 | naivelogError: 2.3643517035321082e-06 --- mylogError: 1.7563728249569976e-11\n",
      "x=4 | naivelogError: 2.8572136405724535e-06 --- mylogError: 2.7966295945702768e-11\n",
      "x=5 | naivelogError: 1.8772778502818e-06 --- mylogError: 3.7694292132073315e-11\n",
      "x=6 | naivelogError: 3.7929585237073127e-06 --- mylogError: 4.671774078701674e-11\n",
      "x=7 | naivelogError: 2.5562818757318695e-06 --- mylogError: 5.5103699381220395e-11\n",
      "x=8 | naivelogError: 4.285820460747658e-06 --- mylogError: 6.292388832207507e-11\n",
      "x=9 | naivelogError: 4.7287034070642164e-06 --- mylogError: 7.02540248198602e-11\n",
      "x=10 | naivelogError: 3.3058846709010936e-06 --- mylogError: 7.715250660567108e-11\n",
      "x=11 | naivelogError: 7.08920462066942e-06 --- mylogError: 8.366951576022075e-11\n",
      "x=12 | naivelogError: 5.221565344104562e-06 --- mylogError: 8.985701072106167e-11\n",
      "x=13 | naivelogError: 3.218170054886116e-07 --- mylogError: 9.573986048394545e-11\n",
      "x=14 | naivelogError: 3.984888695907074e-06 --- mylogError: 1.0135270400724039e-10\n"
     ]
    }
   ],
   "source": [
    "# Inputs demanded for comparison\n",
    "x_list = list(range(1, 15))\n",
    "n_list = [15, 20, 25, 30, 35]\n",
    "for n in n_list:\n",
    "    print(f\"\\n n = {n}:\")\n",
    "    for x in x_list:\n",
    "        exact_result = math.log(x) #exact result\n",
    "        \n",
    "        err_naivelog = abs(naivelog_n(n, x) - exact_result) #absolute error for naivelog\n",
    "        err_mylog = abs(mylog_n(n, x) - exact_result) #absolute error for mylog\n",
    "        \n",
    "        print(f\"x={x} | naivelogError: {err_naivelog} --- mylogError: {err_mylog}\") #display the table"
   ]
  },
  {
   "cell_type": "markdown",
   "id": "0b72018d",
   "metadata": {},
   "source": [
    "# Results\n",
    "\n",
    "For n=15: \n",
    "    With x ranging from 1 to 14 , both naivelog and my log produce relatively small errors that are fairly comparable to one another.\n",
    "The range of errors between $10^{-4}$ and $10^{-6}$ indicates reasonable accuracy. Having absolute errors that small means that the relative errors even smaller.\n",
    "\n",
    "For n=20:\n",
    "    Errors continue to decline for both approaches in comparison to n=15, reaching the order of $10^{-7}$. \n",
    "Mylog marginally outperforms naivelog but its error patterns resembles naivelog's.\n",
    "\n",
    "For n=25:\n",
    "    Both techniques converge to more accurate findings as the trend of declining error continues, now reaching order of $10^{-9}$.\n",
    "Mylog continues to have a modest advantage over naivelog in terms of lesser errors.\n",
    "\n",
    "For n=30:\n",
    "    The error is modest and keeps dropping for both methods.\n",
    "Compared to naivelog, mylog consistently displays lesser error.\n",
    "\n",
    "For n=35:\n",
    "    Both approaches continue to produce extremely low error rates but mylog keeping the same rate of advantage over naivelog.\n",
    "In comparison to errors for n=30, naivelog errors have increased: naivelog errors reach a minimum order of $10^{-9}$, whereas for n=35, they reach a minimum order of $10^{-7}$.\n",
    "Mylog's errors are exceptionally little, averaging around $10^{-12}$. "
   ]
  },
  {
   "cell_type": "markdown",
   "id": "414c359f",
   "metadata": {},
   "source": [
    "# Explanation\n",
    "\n",
    "The fact that naivelog and mylog don't employ the same technique for argument reduction has an effect on the errors and the rate of convergence of the approximations produced by these two algorithms.\n",
    "At each iteration of mylog, the argument is decreased by a little bit more than half.\n",
    "Each iteration of naivelog results in a square reduction of the argument.\n",
    "\n",
    "Convergence rate: For mylog, as seen above, the use of both square roots and division promotes faster convergences.\n",
    "Because accuracy for naivelog decreases as n increases after n=30, the convergence for naivelog is quite sluggish and reaches a maximum point.\n",
    "\n",
    "Due to numerical instability, the restrictions of floating-point arithmetic, and digit cancellation, the inaccuracy for naivelog increases as n exceeds 30.\n",
    "Numerical instability: Naivelog does more square root operations iteratively as n grows.\n",
    "On a number near to 1, repeated square roots might cause instability.\n",
    "Precision is lost as a result of numerical instability, and errors mount up over time.\n",
    "Rounding error: The ability of floating-point arithmetic to express real values with infinite accuracy is constrained.\n",
    "Each square root operation's outcome is susceptible to rounding errors.\n",
    "The buildup of rounding errors becomes increasingly pronounced as n grows.\n",
    "In floating-point mathematics, the cancellation of digits (error) can occur when subtracting two closely related values.\n",
    "A high number of square roots will provide a value that is very near to 1, and because the next step (l=y-1) involves subtracting that result from 1, the significant digits may be cancelled.\n",
    "Because it doesn't do any subtraction operations after the first stage of the algorithm, the mylog method doesn't experience cancellation error. Due to this, rounding error still exists, but cancellation mistake is impossible. This is the reason why mylog continues to become more accurate as n increases.\n",
    "\n",
    "\n",
    "\n"
   ]
  },
  {
   "cell_type": "markdown",
   "id": "a8271433",
   "metadata": {},
   "source": [
    "Individual tests\n"
   ]
  },
  {
   "cell_type": "code",
   "execution_count": 55,
   "id": "32107b06",
   "metadata": {
    "scrolled": true
   },
   "outputs": [
    {
     "data": {
      "text/plain": [
       "0.0"
      ]
     },
     "execution_count": 55,
     "metadata": {},
     "output_type": "execute_result"
    }
   ],
   "source": [
    "naivelog(1) # naivelog(1) when n = 15"
   ]
  },
  {
   "cell_type": "code",
   "execution_count": 56,
   "id": "3619001c",
   "metadata": {},
   "outputs": [
    {
     "data": {
      "text/plain": [
       "0.0"
      ]
     },
     "execution_count": 56,
     "metadata": {},
     "output_type": "execute_result"
    }
   ],
   "source": [
    "mylog(1) # mylog(1) when n = 15"
   ]
  },
  {
   "cell_type": "code",
   "execution_count": 53,
   "id": "a1aba6da",
   "metadata": {},
   "outputs": [
    {
     "data": {
      "text/plain": [
       "0.6931545117404312"
      ]
     },
     "execution_count": 53,
     "metadata": {},
     "output_type": "execute_result"
    }
   ],
   "source": [
    "naivelog(2) # naivelog(2) when n = 15"
   ]
  },
  {
   "cell_type": "code",
   "execution_count": 54,
   "id": "0d396e6b",
   "metadata": {},
   "outputs": [
    {
     "data": {
      "text/plain": [
       "0.6931545117428318"
      ]
     },
     "execution_count": 54,
     "metadata": {},
     "output_type": "execute_result"
    }
   ],
   "source": [
    "mylog(2) # mylog(2) when n = 15"
   ]
  },
  {
   "cell_type": "code",
   "execution_count": 4,
   "id": "6288f25c",
   "metadata": {},
   "outputs": [
    {
     "data": {
      "text/plain": [
       "0.6931471805599453"
      ]
     },
     "execution_count": 4,
     "metadata": {},
     "output_type": "execute_result"
    }
   ],
   "source": [
    "math.log(2) #True value of log(2) (The Gold Standard)"
   ]
  },
  {
   "cell_type": "code",
   "execution_count": 50,
   "id": "6c46e3fd",
   "metadata": {},
   "outputs": [
    {
     "data": {
      "text/plain": [
       "6.406853007629835e-16"
      ]
     },
     "execution_count": 50,
     "metadata": {},
     "output_type": "execute_result"
    }
   ],
   "source": [
    "abs(mylog(2) - math.log(2))/(math.log(2)) #relative error of mylog when n = 100"
   ]
  },
  {
   "cell_type": "markdown",
   "id": "9186256b",
   "metadata": {},
   "source": [
    "The relative error of mylog implementation when n = 100 is 6.406853007629835e-16 which is very very small hence it is a good approximation to log(2). "
   ]
  },
  {
   "cell_type": "code",
   "execution_count": 51,
   "id": "40d6a27d",
   "metadata": {},
   "outputs": [
    {
     "data": {
      "text/plain": [
       "1.0"
      ]
     },
     "execution_count": 51,
     "metadata": {},
     "output_type": "execute_result"
    }
   ],
   "source": [
    "abs(naivelog(2) - math.log(2))/(math.log(2)) #relative error of naivelog when n = 100"
   ]
  },
  {
   "cell_type": "markdown",
   "id": "b7bae64f",
   "metadata": {},
   "source": [
    "The relative error of naivelog implementation when n = 100 is 100% which means it's not a good approximation to log(2).\n",
    "\n",
    "# Summary\n",
    "We see that when n grows bigger, mylog always get closer to the real value of log(2) by decreasing whilst naivelog approaches log(2) by decreasing too but suddenly at some point around n=35, naivelog(2) approaches 0 rapidly hence losing all of its precision."
   ]
  },
  {
   "cell_type": "markdown",
   "id": "816cd8f9",
   "metadata": {},
   "source": [
    "# PART 1.3 Implementing $ e^x $, $ cos(x) $, $ sin(x) $\n"
   ]
  },
  {
   "cell_type": "markdown",
   "id": "d44da47f",
   "metadata": {},
   "source": [
    "# $e^x$"
   ]
  },
  {
   "cell_type": "code",
   "execution_count": 68,
   "id": "7de6ce9a",
   "metadata": {},
   "outputs": [],
   "source": [
    "def exp(n, x):\n",
    "    y = x\n",
    "    for i in range(n):\n",
    "        y = y/2\n",
    "    l = 1 + y\n",
    "    for i in range(n):\n",
    "        l = l**2\n",
    "\n",
    "    return l"
   ]
  },
  {
   "cell_type": "code",
   "execution_count": 95,
   "id": "cab53443",
   "metadata": {},
   "outputs": [
    {
     "name": "stdout",
     "output_type": "stream",
     "text": [
      "\n",
      " n = 15:\n",
      "x=1 | AbsoluteError_of_exp: 4.1476529010875396e-05 | RelativeError_of_exp: 1.5258362314251956e-05\n",
      "x=2 | AbsoluteError_of_exp: 0.0004509600834508021 | RelativeError_of_exp: 6.1030810622220794e-05\n",
      "x=3 | AbsoluteError_of_exp: 0.0027579710290943638 | RelativeError_of_exp: 0.00013731129218210917\n",
      "x=4 | AbsoluteError_of_exp: 0.013326915029928443 | RelativeError_of_exp: 0.00024409096318901344\n",
      "x=5 | AbsoluteError_of_exp: 0.0565985739266921 | RelativeError_of_exp: 0.00038135819134187197\n",
      "x=6 | AbsoluteError_of_exp: 0.22152216581019957 | RelativeError_of_exp: 0.0005490985506818782\n",
      "x=7 | AbsoluteError_of_exp: 0.8195082968104543 | RelativeError_of_exp: 0.000747294836483751\n",
      "x=8 | AbsoluteError_of_exp: 2.909197554180082 | RelativeError_of_exp: 0.0009759270566128104\n",
      "x=9 | AbsoluteError_of_exp: 10.007085343231665 | RelativeError_of_exp: 0.001234972441686902\n",
      "x=10 | AbsoluteError_of_exp: 33.5772644613462 | RelativeError_of_exp: 0.0015244054481614964\n",
      "x=11 | AbsoluteError_of_exp: 110.41975792041194 | RelativeError_of_exp: 0.0018441977581180786\n",
      "x=12 | AbsoluteError_of_exp: 357.1358149788284 | RelativeError_of_exp: 0.0021943182862088555\n",
      "x=13 | AbsoluteError_of_exp: 1139.096443733084 | RelativeError_of_exp: 0.00257473318915743\n",
      "x=14 | AbsoluteError_of_exp: 3590.2618847233243 | RelativeError_of_exp: 0.0029854058662503475\n",
      "\n",
      " n = 20:\n",
      "x=1 | AbsoluteError_of_exp: 1.2961833886215857e-06 | RelativeError_of_exp: 4.768392206618154e-07\n",
      "x=2 | AbsoluteError_of_exp: 1.409341765867822e-05 | RelativeError_of_exp: 1.9073366706090959e-06\n",
      "x=3 | AbsoluteError_of_exp: 8.6198033443452e-05 | RelativeError_of_exp: 4.291547384224567e-06\n",
      "x=4 | AbsoluteError_of_exp: 0.00041654812775959726 | RelativeError_of_exp: 7.629345087823094e-06\n",
      "x=5 | AbsoluteError_of_exp: 0.0017692077709909881 | RelativeError_of_exp: 1.1920828191307417e-05\n",
      "x=6 | AbsoluteError_of_exp: 0.006925231786169661 | RelativeError_of_exp: 1.71659333638871e-05\n",
      "x=7 | AbsoluteError_of_exp: 0.025622482809239955 | RelativeError_of_exp: 2.3364679986476535e-05\n",
      "x=8 | AbsoluteError_of_exp: 0.09096977559647712 | RelativeError_of_exp: 3.0516959981296005e-05\n",
      "x=9 | AbsoluteError_of_exp: 0.3129642051144401 | RelativeError_of_exp: 3.8622851239316445e-05\n",
      "x=10 | AbsoluteError_of_exp: 1.0502712722445722 | RelativeError_of_exp: 4.768224199145918e-05\n",
      "x=11 | AbsoluteError_of_exp: 3.4544508746039355 | RelativeError_of_exp: 5.769520490223736e-05\n",
      "x=12 | AbsoluteError_of_exp: 11.175016510911519 | RelativeError_of_exp: 6.866167449498927e-05\n",
      "x=13 | AbsoluteError_of_exp: 35.65037329297047 | RelativeError_of_exp: 8.058158712395317e-05\n",
      "x=14 | AbsoluteError_of_exp: 112.38921814132482 | RelativeError_of_exp: 9.34548626021073e-05\n",
      "\n",
      " n = 25:\n",
      "x=1 | AbsoluteError_of_exp: 4.052666868759047e-08 | RelativeError_of_exp: 1.4908928229330972e-08\n",
      "x=2 | AbsoluteError_of_exp: 4.405369500304346e-07 | RelativeError_of_exp: 5.962019290856236e-08\n",
      "x=3 | AbsoluteError_of_exp: 2.6935876533684677e-06 | RelativeError_of_exp: 1.341058326530901e-07\n",
      "x=4 | AbsoluteError_of_exp: 1.3018503238981793e-05 | RelativeError_of_exp: 2.3844220419700685e-07\n",
      "x=5 | AbsoluteError_of_exp: 5.52978958978656e-05 | RelativeError_of_exp: 3.725942917207641e-07\n",
      "x=6 | AbsoluteError_of_exp: 0.00021640926036070596 | RelativeError_of_exp: 5.364249251698566e-07\n",
      "x=7 | AbsoluteError_of_exp: 0.0008007785754671204 | RelativeError_of_exp: 7.302155413709033e-07\n",
      "x=8 | AbsoluteError_of_exp: 0.002843002386725857 | RelativeError_of_exp: 9.537210517841692e-07\n",
      "x=9 | AbsoluteError_of_exp: 0.009781160145394097 | RelativeError_of_exp: 1.2070910572835234e-06\n",
      "x=10 | AbsoluteError_of_exp: 0.032824261874338845 | RelativeError_of_exp: 1.4902191836003928e-06\n",
      "x=11 | AbsoluteError_of_exp: 0.1079526986432029 | RelativeError_of_exp: 1.8029936722383333e-06\n",
      "x=12 | AbsoluteError_of_exp: 0.3492246318201069 | RelativeError_of_exp: 2.1457102969155966e-06\n",
      "x=13 | AbsoluteError_of_exp: 1.1141643797163852 | RelativeError_of_exp: 2.5183785116837512e-06\n",
      "x=14 | AbsoluteError_of_exp: 3.512595701497048 | RelativeError_of_exp: 2.920824204394539e-06\n",
      "\n",
      " n = 30:\n",
      "x=1 | AbsoluteError_of_exp: 2.0276571977007052e-08 | RelativeError_of_exp: 7.459333967773882e-09\n",
      "x=2 | AbsoluteError_of_exp: 1.1023487456185421e-07 | RelativeError_of_exp: 1.491866797138101e-08\n",
      "x=3 | AbsoluteError_of_exp: 1.4965423744683903e-07 | RelativeError_of_exp: 7.45084575130632e-09\n",
      "x=4 | AbsoluteError_of_exp: 1.6290633269022692e-06 | RelativeError_of_exp: 2.983733562242189e-08\n",
      "x=5 | AbsoluteError_of_exp: 5.539336115134574e-06 | RelativeError_of_exp: 3.7323753153896756e-08\n",
      "x=6 | AbsoluteError_of_exp: 6.011771404246247e-06 | RelativeError_of_exp: 1.4901691453895953e-08\n",
      "x=7 | AbsoluteError_of_exp: 4.0922442167357076e-05 | RelativeError_of_exp: 3.731643699886059e-08\n",
      "x=8 | AbsoluteError_of_exp: 0.00017788768536775024 | RelativeError_of_exp: 5.96746704049607e-08\n",
      "x=9 | AbsoluteError_of_exp: 0.0007854451523598982 | RelativeError_of_exp: 9.69316323735672e-08\n",
      "x=10 | AbsoluteError_of_exp: 0.0016442207161162514 | RelativeError_of_exp: 7.464750502570035e-08\n",
      "x=11 | AbsoluteError_of_exp: 0.005796157616714481 | RelativeError_of_exp: 9.680569024746866e-08\n",
      "x=12 | AbsoluteError_of_exp: 0.004850643337704241 | RelativeError_of_exp: 2.980338271711158e-08\n",
      "x=13 | AbsoluteError_of_exp: 0.0033148445654660463 | RelativeError_of_exp: 7.49264065089424e-09\n",
      "x=14 | AbsoluteError_of_exp: 0.08975381264463067 | RelativeError_of_exp: 7.463287286305135e-08\n",
      "\n",
      " n = 35:\n",
      "x=1 | AbsoluteError_of_exp: 2.0276571977007052e-08 | RelativeError_of_exp: 7.459333967773882e-09\n",
      "x=2 | AbsoluteError_of_exp: 1.1023487456185421e-07 | RelativeError_of_exp: 1.491866797138101e-08\n",
      "x=3 | AbsoluteError_of_exp: 1.4965423744683903e-07 | RelativeError_of_exp: 7.45084575130632e-09\n",
      "x=4 | AbsoluteError_of_exp: 1.6290633269022692e-06 | RelativeError_of_exp: 2.983733562242189e-08\n",
      "x=5 | AbsoluteError_of_exp: 5.539336115134574e-06 | RelativeError_of_exp: 3.7323753153896756e-08\n",
      "x=6 | AbsoluteError_of_exp: 6.011771404246247e-06 | RelativeError_of_exp: 1.4901691453895953e-08\n",
      "x=7 | AbsoluteError_of_exp: 4.0922442167357076e-05 | RelativeError_of_exp: 3.731643699886059e-08\n",
      "x=8 | AbsoluteError_of_exp: 0.00017788768536775024 | RelativeError_of_exp: 5.96746704049607e-08\n",
      "x=9 | AbsoluteError_of_exp: 0.0007854451523598982 | RelativeError_of_exp: 9.69316323735672e-08\n",
      "x=10 | AbsoluteError_of_exp: 0.0016442207161162514 | RelativeError_of_exp: 7.464750502570035e-08\n",
      "x=11 | AbsoluteError_of_exp: 0.005796157616714481 | RelativeError_of_exp: 9.680569024746866e-08\n",
      "x=12 | AbsoluteError_of_exp: 0.004850643337704241 | RelativeError_of_exp: 2.980338271711158e-08\n",
      "x=13 | AbsoluteError_of_exp: 0.0033148445654660463 | RelativeError_of_exp: 7.49264065089424e-09\n",
      "x=14 | AbsoluteError_of_exp: 0.08975381264463067 | RelativeError_of_exp: 7.463287286305135e-08\n"
     ]
    }
   ],
   "source": [
    "# Test values to provide examples of exp(n, x)\n",
    "x_list = list(range(1, 15))\n",
    "n_list = [15, 20, 25, 30, 35]\n",
    "\n",
    "for n in n_list:\n",
    "    print(f\"\\n n = {n}:\")\n",
    "    for x in x_list:\n",
    "        exact_result = math.exp(x) #exact result of e^x\n",
    "        exp_result = exp(n, x) #inexact result of e^x\n",
    "        \n",
    "        error_exp = abs(exp_result - exact_result) #absolute error\n",
    "        relative_error = error_exp / abs(exact_result) #relative error\n",
    "        print(f\"x={x} | AbsoluteError_of_exp: {error_exp} | RelativeError_of_exp: {relative_error}\")"
   ]
  },
  {
   "cell_type": "markdown",
   "id": "a3a6c122",
   "metadata": {},
   "source": [
    "# The 'argument halving' philosophy on $ e^x $ :\n",
    "\n",
    "\n"
   ]
  },
  {
   "cell_type": "markdown",
   "id": "db76de33",
   "metadata": {},
   "source": [
    "By using this formula we can approximate $e^x$ : $e^x ≈ (1+y)^N = (1 + \\frac{x}{N})^N$ where $y = \\frac{x}{N}, N = 2^k$"
   ]
  },
  {
   "cell_type": "markdown",
   "id": "b0db0626",
   "metadata": {},
   "source": [
    "# Explanation for $e^x$"
   ]
  },
  {
   "cell_type": "markdown",
   "id": "413a9e2a",
   "metadata": {},
   "source": [
    "The relative errors are always very good, but as n increases, they get progressively worse. Additionally, as n increases, the absolute error value decreases, with the exception of when n>30, when it appears that the error is the same for n=30 and n=35. However, our relative error is between $10^{-9}$ and $10^{-8}$ which is very acceptable.\n"
   ]
  },
  {
   "cell_type": "markdown",
   "id": "0cfe6c29",
   "metadata": {},
   "source": [
    "# $ sin(x) $"
   ]
  },
  {
   "cell_type": "code",
   "execution_count": 73,
   "id": "07c4126d",
   "metadata": {},
   "outputs": [],
   "source": [
    "def sin(n, x):\n",
    "    y = x\n",
    "    for i in range(n):\n",
    "        y = y/2\n",
    "\n",
    "    for i in range(n):\n",
    "        y = 2*y*math.sqrt(1 - y**2)\n",
    "\n",
    "    return y"
   ]
  },
  {
   "cell_type": "code",
   "execution_count": 97,
   "id": "451a923c",
   "metadata": {},
   "outputs": [
    {
     "name": "stdout",
     "output_type": "stream",
     "text": [
      "\n",
      "For n = 15:\n",
      "x=0.0 | AbsoluteErrorMysin): 0.0 | RelativeErrorMysin: inf\n",
      "x=0.1 | AbsoluteErrorMysin): 1.544459005131671e-13 | RelativeErrorMysin: 1.5470361097580851e-12\n",
      "x=0.2 | AbsoluteErrorMysin): 1.2170264795940966e-12 | RelativeErrorMysin: 6.1258900642773546e-12\n",
      "x=0.30000000000000004 | AbsoluteErrorMysin): 4.003741782554471e-12 | RelativeErrorMysin: 1.3548115128190475e-11\n",
      "x=0.4 | AbsoluteErrorMysin): 9.15001407975069e-12 | RelativeErrorMysin: 2.3496618124110976e-11\n",
      "x=0.5 | AbsoluteErrorMysin): 1.7027379506373563e-11 | RelativeErrorMysin: 3.5516212915872166e-11\n",
      "x=0.6000000000000001 | AbsoluteErrorMysin): 2.7671309688059864e-11 | RelativeErrorMysin: 4.9006780382070986e-11\n",
      "x=0.7000000000000001 | AbsoluteErrorMysin): 4.072064907489903e-11 | RelativeErrorMysin: 6.3209455253399e-11\n",
      "x=0.8 | AbsoluteErrorMysin): 5.5369375751013195e-11 | RelativeErrorMysin: 7.718534275157993e-11\n",
      "x=0.9 | AbsoluteErrorMysin): 7.033862381433664e-11 | RelativeErrorMysin: 8.979472420753001e-11\n",
      "x=1.0 | AbsoluteErrorMysin): 8.386580319097448e-11 | RelativeErrorMysin: 9.96657100543052e-11\n",
      "x=1.1 | AbsoluteErrorMysin): 9.37120381294676e-11 | RelativeErrorMysin: 1.0515177760987921e-10\n",
      "x=1.2000000000000002 | AbsoluteErrorMysin): 9.719181015555023e-11 | RelativeErrorMysin: 1.0427868489516096e-10\n",
      "x=1.3 | AbsoluteErrorMysin): 9.122225197444322e-11 | RelativeErrorMysin: 9.467228171067491e-11\n",
      "x=1.4000000000000001 | AbsoluteErrorMysin): 7.23930915214055e-11 | RelativeErrorMysin: 7.346198321273397e-11\n",
      "x=1.5 | AbsoluteErrorMysin): 3.7057024115938475e-11 | RelativeErrorMysin: 3.715008557797182e-11\n",
      "\n",
      "For n = 20:\n",
      "x=0.0 | AbsoluteErrorMysin): 0.0 | RelativeErrorMysin: inf\n",
      "x=0.1 | AbsoluteErrorMysin): 1.249000902703301e-16 | RelativeErrorMysin: 1.2510850020507474e-15\n",
      "x=0.2 | AbsoluteErrorMysin): 1.1657341758564144e-15 | RelativeErrorMysin: 5.867710789537696e-15\n",
      "x=0.30000000000000004 | AbsoluteErrorMysin): 3.941291737419306e-15 | RelativeErrorMysin: 1.3336792708513328e-14\n",
      "x=0.4 | AbsoluteErrorMysin): 8.770761894538737e-15 | RelativeErrorMysin: 2.252272412886778e-14\n",
      "x=0.5 | AbsoluteErrorMysin): 1.6764367671839864e-14 | RelativeErrorMysin: 3.496761503495946e-14\n",
      "x=0.6000000000000001 | AbsoluteErrorMysin): 2.6978419498391304e-14 | RelativeErrorMysin: 4.7779649547398906e-14\n",
      "x=0.7000000000000001 | AbsoluteErrorMysin): 3.963496197911809e-14 | RelativeErrorMysin: 6.152417539025801e-14\n",
      "x=0.8 | AbsoluteErrorMysin): 5.4067861299245124e-14 | RelativeErrorMysin: 7.537102142876792e-14\n",
      "x=0.9 | AbsoluteErrorMysin): 6.88338275267597e-14 | RelativeErrorMysin: 8.78736919168194e-14\n",
      "x=1.0 | AbsoluteErrorMysin): 8.204548151979907e-14 | RelativeErrorMysin: 9.75024486893385e-14\n",
      "x=1.1 | AbsoluteErrorMysin): 9.126033262418787e-14 | RelativeErrorMysin: 1.0240078427751857e-13\n",
      "x=1.2000000000000002 | AbsoluteErrorMysin): 9.492406860545088e-14 | RelativeErrorMysin: 1.0184558784564614e-13\n",
      "x=1.3 | AbsoluteErrorMysin): 8.915090887740007e-14 | RelativeErrorMysin: 9.25226003230934e-14\n",
      "x=1.4000000000000001 | AbsoluteErrorMysin): 7.049916206369744e-14 | RelativeErrorMysin: 7.154008968526786e-14\n",
      "x=1.5 | AbsoluteErrorMysin): 3.608224830031759e-14 | RelativeErrorMysin: 3.617286180370556e-14\n",
      "\n",
      "For n = 25:\n",
      "x=0.0 | AbsoluteErrorMysin): 0.0 | RelativeErrorMysin: inf\n",
      "x=0.1 | AbsoluteErrorMysin): 2.7755575615628914e-17 | RelativeErrorMysin: 2.780188893446105e-16\n",
      "x=0.2 | AbsoluteErrorMysin): 5.551115123125783e-17 | RelativeErrorMysin: 2.7941479950179505e-16\n",
      "x=0.30000000000000004 | AbsoluteErrorMysin): 5.551115123125783e-17 | RelativeErrorMysin: 1.8784215082413136e-16\n",
      "x=0.4 | AbsoluteErrorMysin): 1.6653345369377348e-16 | RelativeErrorMysin: 4.276466606747047e-16\n",
      "x=0.5 | AbsoluteErrorMysin): 1.6653345369377348e-16 | RelativeErrorMysin: 3.4736041425456412e-16\n",
      "x=0.6000000000000001 | AbsoluteErrorMysin): 1.1102230246251565e-16 | RelativeErrorMysin: 1.966240722115181e-16\n",
      "x=0.7000000000000001 | AbsoluteErrorMysin): 1.1102230246251565e-16 | RelativeErrorMysin: 1.7233662574301963e-16\n",
      "x=0.8 | AbsoluteErrorMysin): 1.1102230246251565e-16 | RelativeErrorMysin: 1.5476595775927705e-16\n",
      "x=0.9 | AbsoluteErrorMysin): 0.0 | RelativeErrorMysin: 0.0\n",
      "x=1.0 | AbsoluteErrorMysin): 3.3306690738754696e-16 | RelativeErrorMysin: 3.958150826360156e-16\n",
      "x=1.1 | AbsoluteErrorMysin): 3.3306690738754696e-16 | RelativeErrorMysin: 3.7372549006393637e-16\n",
      "x=1.2000000000000002 | AbsoluteErrorMysin): 1.1102230246251565e-16 | RelativeErrorMysin: 1.1911764660309489e-16\n",
      "x=1.3 | AbsoluteErrorMysin): 1.1102230246251565e-16 | RelativeErrorMysin: 1.1522117101256962e-16\n",
      "x=1.4000000000000001 | AbsoluteErrorMysin): 0.0 | RelativeErrorMysin: 0.0\n",
      "x=1.5 | AbsoluteErrorMysin): 0.0 | RelativeErrorMysin: 0.0\n",
      "\n",
      "For n = 30:\n",
      "x=0.0 | AbsoluteErrorMysin): 0.0 | RelativeErrorMysin: inf\n",
      "x=0.1 | AbsoluteErrorMysin): 2.7755575615628914e-17 | RelativeErrorMysin: 2.780188893446105e-16\n",
      "x=0.2 | AbsoluteErrorMysin): 5.551115123125783e-17 | RelativeErrorMysin: 2.7941479950179505e-16\n",
      "x=0.30000000000000004 | AbsoluteErrorMysin): 5.551115123125783e-17 | RelativeErrorMysin: 1.8784215082413136e-16\n",
      "x=0.4 | AbsoluteErrorMysin): 1.6653345369377348e-16 | RelativeErrorMysin: 4.276466606747047e-16\n",
      "x=0.5 | AbsoluteErrorMysin): 1.6653345369377348e-16 | RelativeErrorMysin: 3.4736041425456412e-16\n",
      "x=0.6000000000000001 | AbsoluteErrorMysin): 2.220446049250313e-16 | RelativeErrorMysin: 3.932481444230362e-16\n",
      "x=0.7000000000000001 | AbsoluteErrorMysin): 1.1102230246251565e-16 | RelativeErrorMysin: 1.7233662574301963e-16\n",
      "x=0.8 | AbsoluteErrorMysin): 2.220446049250313e-16 | RelativeErrorMysin: 3.095319155185541e-16\n",
      "x=0.9 | AbsoluteErrorMysin): 0.0 | RelativeErrorMysin: 0.0\n",
      "x=1.0 | AbsoluteErrorMysin): 2.220446049250313e-16 | RelativeErrorMysin: 2.638767217573437e-16\n",
      "x=1.1 | AbsoluteErrorMysin): 3.3306690738754696e-16 | RelativeErrorMysin: 3.7372549006393637e-16\n",
      "x=1.2000000000000002 | AbsoluteErrorMysin): 2.220446049250313e-16 | RelativeErrorMysin: 2.3823529320618977e-16\n",
      "x=1.3 | AbsoluteErrorMysin): 0.0 | RelativeErrorMysin: 0.0\n",
      "x=1.4000000000000001 | AbsoluteErrorMysin): 0.0 | RelativeErrorMysin: 0.0\n",
      "x=1.5 | AbsoluteErrorMysin): 1.1102230246251565e-16 | RelativeErrorMysin: 1.1130111324217094e-16\n",
      "\n",
      "For n = 35:\n",
      "x=0.0 | AbsoluteErrorMysin): 0.0 | RelativeErrorMysin: inf\n",
      "x=0.1 | AbsoluteErrorMysin): 2.7755575615628914e-17 | RelativeErrorMysin: 2.780188893446105e-16\n",
      "x=0.2 | AbsoluteErrorMysin): 5.551115123125783e-17 | RelativeErrorMysin: 2.7941479950179505e-16\n",
      "x=0.30000000000000004 | AbsoluteErrorMysin): 5.551115123125783e-17 | RelativeErrorMysin: 1.8784215082413136e-16\n",
      "x=0.4 | AbsoluteErrorMysin): 1.6653345369377348e-16 | RelativeErrorMysin: 4.276466606747047e-16\n",
      "x=0.5 | AbsoluteErrorMysin): 1.6653345369377348e-16 | RelativeErrorMysin: 3.4736041425456412e-16\n",
      "x=0.6000000000000001 | AbsoluteErrorMysin): 2.220446049250313e-16 | RelativeErrorMysin: 3.932481444230362e-16\n",
      "x=0.7000000000000001 | AbsoluteErrorMysin): 1.1102230246251565e-16 | RelativeErrorMysin: 1.7233662574301963e-16\n",
      "x=0.8 | AbsoluteErrorMysin): 2.220446049250313e-16 | RelativeErrorMysin: 3.095319155185541e-16\n",
      "x=0.9 | AbsoluteErrorMysin): 0.0 | RelativeErrorMysin: 0.0\n",
      "x=1.0 | AbsoluteErrorMysin): 2.220446049250313e-16 | RelativeErrorMysin: 2.638767217573437e-16\n",
      "x=1.1 | AbsoluteErrorMysin): 3.3306690738754696e-16 | RelativeErrorMysin: 3.7372549006393637e-16\n",
      "x=1.2000000000000002 | AbsoluteErrorMysin): 2.220446049250313e-16 | RelativeErrorMysin: 2.3823529320618977e-16\n",
      "x=1.3 | AbsoluteErrorMysin): 0.0 | RelativeErrorMysin: 0.0\n",
      "x=1.4000000000000001 | AbsoluteErrorMysin): 0.0 | RelativeErrorMysin: 0.0\n",
      "x=1.5 | AbsoluteErrorMysin): 1.1102230246251565e-16 | RelativeErrorMysin: 1.1130111324217094e-16\n"
     ]
    }
   ],
   "source": [
    "# Test values to provide examples for sin(x)\n",
    "x_list = [0.1 * i for i in range(16)] #since we want values between 0 and pi/2\n",
    "n_list = [15, 20, 25, 30, 35]\n",
    "\n",
    "for n in n_list:\n",
    "    print(f\"\\nFor n = {n}:\")\n",
    "    for x in x_list:\n",
    "        exact_result = math.sin(x)\n",
    "        sin_result = sin(n, x)\n",
    "        error_sin = abs(sin_result - exact_result)\n",
    "\n",
    "        # Relative Error with warning (an if statement to check that true_result\n",
    "        # is not 0 because we can't divide by 0)\n",
    "        if exact_result != 0:\n",
    "            relative_error = error_sin / abs(exact_result)\n",
    "        else:\n",
    "            relative_error = float('inf')  # exact_result is infinity\n",
    "\n",
    "        print(f\"x={x} | AbsoluteErrorMysin): {error_sin} | RelativeErrorMysin: {relative_error}\")"
   ]
  },
  {
   "cell_type": "markdown",
   "id": "c948d123",
   "metadata": {},
   "source": [
    "# The 'argument halving' philosophy on $ sin(x) $ :"
   ]
  },
  {
   "cell_type": "markdown",
   "id": "0e888445",
   "metadata": {},
   "source": [
    "We are using 2 methods: The argument reduction technique from the notebook and the small angle approximation when $sin(x) \\approx x$"
   ]
  },
  {
   "cell_type": "markdown",
   "id": "522136f1",
   "metadata": {},
   "source": [
    "# Explanation for $sin(x)$"
   ]
  },
  {
   "cell_type": "markdown",
   "id": "d47a3a8d",
   "metadata": {},
   "source": [
    "Although the relative errors are good, they continue to get worse as n increases. Additionally, as n increases, the absolute error value decreases, with the exception of when n>30, when it appears that the error is the same for n=30 and n=35. The excellent relative error we have, however, is of the order $10^{-16}$, which is more than acceptable. It is truly amazing that we even have values where the result has zero error.\n",
    "\n"
   ]
  },
  {
   "cell_type": "markdown",
   "id": "b07ebb23",
   "metadata": {},
   "source": [
    "# $cos(x)$"
   ]
  },
  {
   "cell_type": "code",
   "execution_count": 75,
   "id": "b0a20405",
   "metadata": {},
   "outputs": [],
   "source": [
    "def cos(n, x):\n",
    "    y = x\n",
    "    for i in range(n):\n",
    "        y = y/2\n",
    "\n",
    "    l = 1 - (y**2)/2\n",
    "\n",
    "    for i in range(n):\n",
    "        l = 2*(l**2) -1\n",
    "\n",
    "    return l"
   ]
  },
  {
   "cell_type": "code",
   "execution_count": 98,
   "id": "aaac1379",
   "metadata": {},
   "outputs": [
    {
     "name": "stdout",
     "output_type": "stream",
     "text": [
      "\n",
      " n = 15:\n",
      "x=0.0 | Absolute Error (cos): 0.0 | Relative Error (cos): 0.0\n",
      "x=0.1 | Absolute Error (cos): 4.739190706537499e-09 | Relative Error (cos): 4.762985796359221e-09\n",
      "x=0.2 | Absolute Error (cos): 1.8862058137614213e-08 | Relative Error (cos): 1.924569061334691e-08\n",
      "x=0.30000000000000004 | Absolute Error (cos): 4.220589033820943e-08 | Relative Error (cos): 4.417908330586154e-08\n",
      "x=0.4 | Absolute Error (cos): 4.2112218601175755e-08 | Relative Error (cos): 4.5721422224339513e-08\n",
      "x=0.5 | Absolute Error (cos): 5.949158943252542e-10 | Relative Error (cos): 6.779030488524803e-10\n",
      "x=0.6000000000000001 | Absolute Error (cos): 4.9098092924637626e-08 | Relative Error (cos): 5.9488639576047796e-08\n",
      "x=0.7000000000000001 | Absolute Error (cos): 4.793107022393883e-09 | Relative Error (cos): 6.266792159322997e-09\n",
      "x=0.8 | Absolute Error (cos): 4.82561895998046e-08 | Relative Error (cos): 6.926327671657141e-08\n",
      "x=0.9 | Absolute Error (cos): 2.330146109397191e-08 | Relative Error (cos): 3.748566188344308e-08\n",
      "x=1.0 | Absolute Error (cos): 2.088351047646597e-09 | Relative Error (cos): 3.86515294301975e-09\n",
      "x=1.1 | Absolute Error (cos): 1.5257157814918543e-08 | Relative Error (cos): 3.3635997078122775e-08\n",
      "x=1.2000000000000002 | Absolute Error (cos): 2.3090041656459448e-08 | Relative Error (cos): 6.372167111424646e-08\n",
      "x=1.3 | Absolute Error (cos): 2.353272104960169e-08 | Relative Error (cos): 8.797317420267262e-08\n",
      "x=1.4000000000000001 | Absolute Error (cos): 1.4663881747756236e-08 | Relative Error (cos): 8.627480286800455e-08\n",
      "x=1.5 | Absolute Error (cos): 1.2358344209095762e-09 | Relative Error (cos): 1.7470784704137254e-08\n",
      "\n",
      " n = 20:\n",
      "x=0.0 | Absolute Error (cos): 0.0 | Relative Error (cos): 0.0\n",
      "x=0.1 | Absolute Error (cos): 4.874693314227407e-06 | Relative Error (cos): 4.899168751585388e-06\n",
      "x=0.2 | Absolute Error (cos): 1.9401313082978433e-05 | Relative Error (cos): 1.9795913381428664e-05\n",
      "x=0.30000000000000004 | Absolute Error (cos): 4.3288840007926765e-05 | Relative Error (cos): 4.5312662607023295e-05\n",
      "x=0.4 | Absolute Error (cos): 4.2782764021032094e-05 | Relative Error (cos): 4.644943635610964e-05\n",
      "x=0.5 | Absolute Error (cos): 5.949158943252542e-10 | Relative Error (cos): 6.779030488524803e-10\n",
      "x=0.6000000000000001 | Absolute Error (cos): 5.054555949479678e-05 | Relative Error (cos): 6.124243105676265e-05\n",
      "x=0.7000000000000001 | Absolute Error (cos): 4.493296949403813e-06 | Relative Error (cos): 5.874802703230725e-06\n",
      "x=0.8 | Absolute Error (cos): 4.816157668241505e-05 | Relative Error (cos): 6.91274765066406e-05\n",
      "x=0.9 | Absolute Error (cos): 2.5500407948686465e-05 | Relative Error (cos): 4.102316444446552e-05\n",
      "x=1.0 | Absolute Error (cos): 2.088351047646597e-09 | Relative Error (cos): 3.86515294301975e-09\n",
      "x=1.1 | Absolute Error (cos): 1.582424673779448e-05 | Relative Error (cos): 3.488620380628807e-05\n",
      "x=1.2000000000000002 | Absolute Error (cos): 2.2754084525899998e-05 | Relative Error (cos): 6.279452901114824e-05\n",
      "x=1.3 | Absolute Error (cos): 2.17126139230861e-05 | Relative Error (cos): 8.116900561668616e-05\n",
      "x=1.4000000000000001 | Absolute Error (cos): 1.3746692647004233e-05 | Relative Error (cos): 8.087852988781843e-05\n",
      "x=1.5 | Absolute Error (cos): 1.2358344209095762e-09 | Relative Error (cos): 1.7470784704137254e-08\n",
      "\n",
      " n = 25:\n",
      "x=0.0 | Absolute Error (cos): 0.0 | Relative Error (cos): 0.0\n",
      "x=0.1 | Absolute Error (cos): 0.0049958347219741794 | Relative Error (cos): 0.005020918400455374\n",
      "x=0.2 | Absolute Error (cos): 0.019933422158758374 | Relative Error (cos): 0.020338844941192695\n",
      "x=0.30000000000000004 | Absolute Error (cos): 0.04466351087439402 | Relative Error (cos): 0.04675160153808564\n",
      "x=0.4 | Absolute Error (cos): 0.04347843270742824 | Relative Error (cos): 0.04720472692961748\n",
      "x=0.5 | Absolute Error (cos): 5.949158943252542e-10 | Relative Error (cos): 6.779030488524803e-10\n",
      "x=0.6000000000000001 | Absolute Error (cos): 0.05224694638577865 | Relative Error (cos): 0.06330387958781637\n",
      "x=0.7000000000000001 | Absolute Error (cos): 0.004597590778842697 | Relative Error (cos): 0.006011162636263671\n",
      "x=0.8 | Absolute Error (cos): 0.048847366134396775 | Relative Error (cos): 0.07011180670294992\n",
      "x=0.9 | Absolute Error (cos): 0.02624937494210411 | Relative Error (cos): 0.04222804697796364\n",
      "x=1.0 | Absolute Error (cos): 2.088351047646597e-09 | Relative Error (cos): 3.86515294301975e-09\n",
      "x=1.1 | Absolute Error (cos): 0.016144910444212013 | Relative Error (cos): 0.035593140420758534\n",
      "x=1.2000000000000002 | Absolute Error (cos): 0.02317176691824452 | Relative Error (cos): 0.06394720861351455\n",
      "x=1.3 | Absolute Error (cos): 0.022110090652615433 | Relative Error (cos): 0.082654906439404\n",
      "x=1.4000000000000001 | Absolute Error (cos): 0.01402344986817669 | Relative Error (cos): 0.08250682825449096\n",
      "x=1.5 | Absolute Error (cos): 1.2358344209095762e-09 | Relative Error (cos): 1.7470784704137254e-08\n",
      "\n",
      " n = 30:\n",
      "x=0.0 | Absolute Error (cos): 0.0 | Relative Error (cos): 0.0\n",
      "x=0.1 | Absolute Error (cos): 0.0049958347219741794 | Relative Error (cos): 0.005020918400455374\n",
      "x=0.2 | Absolute Error (cos): 0.019933422158758374 | Relative Error (cos): 0.020338844941192695\n",
      "x=0.30000000000000004 | Absolute Error (cos): 0.04466351087439402 | Relative Error (cos): 0.04675160153808564\n",
      "x=0.4 | Absolute Error (cos): 0.0789390059971149 | Relative Error (cos): 0.08570442838323868\n",
      "x=0.5 | Absolute Error (cos): 0.12241743810962724 | Relative Error (cos): 0.13949392732454907\n",
      "x=0.6000000000000001 | Absolute Error (cos): 0.17466438509032178 | Relative Error (cos): 0.2116283145123168\n",
      "x=0.7000000000000001 | Absolute Error (cos): 0.23515781271551162 | Relative Error (cos): 0.30745925973359395\n",
      "x=0.8 | Absolute Error (cos): 0.3032932906528346 | Relative Error (cos): 0.4353241996722399\n",
      "x=0.9 | Absolute Error (cos): 0.3783900317293355 | Relative Error (cos): 0.6087258104660493\n",
      "x=1.0 | Absolute Error (cos): 0.45969769413186023 | Relative Error (cos): 0.8508157176809255\n",
      "x=1.1 | Absolute Error (cos): 0.5464038785744227 | Relative Error (cos): 1.2046043887173594\n",
      "x=1.2000000000000002 | Absolute Error (cos): 0.6376422455233266 | Relative Error (cos): 1.7597036013324079\n",
      "x=1.3 | Absolute Error (cos): 0.7325011713754126 | Relative Error (cos): 2.7383341270754418\n",
      "x=1.4000000000000001 | Absolute Error (cos): 0.8300328570997592 | Relative Error (cos): 4.883490084827349\n",
      "x=1.5 | Absolute Error (cos): 0.9292627983322971 | Relative Error (cos): 13.136832902969903\n",
      "\n",
      " n = 35:\n",
      "x=0.0 | Absolute Error (cos): 0.0 | Relative Error (cos): 0.0\n",
      "x=0.1 | Absolute Error (cos): 0.0049958347219741794 | Relative Error (cos): 0.005020918400455374\n",
      "x=0.2 | Absolute Error (cos): 0.019933422158758374 | Relative Error (cos): 0.020338844941192695\n",
      "x=0.30000000000000004 | Absolute Error (cos): 0.04466351087439402 | Relative Error (cos): 0.04675160153808564\n",
      "x=0.4 | Absolute Error (cos): 0.0789390059971149 | Relative Error (cos): 0.08570442838323868\n",
      "x=0.5 | Absolute Error (cos): 0.12241743810962724 | Relative Error (cos): 0.13949392732454907\n",
      "x=0.6000000000000001 | Absolute Error (cos): 0.17466438509032178 | Relative Error (cos): 0.2116283145123168\n",
      "x=0.7000000000000001 | Absolute Error (cos): 0.23515781271551162 | Relative Error (cos): 0.30745925973359395\n",
      "x=0.8 | Absolute Error (cos): 0.3032932906528346 | Relative Error (cos): 0.4353241996722399\n",
      "x=0.9 | Absolute Error (cos): 0.3783900317293355 | Relative Error (cos): 0.6087258104660493\n",
      "x=1.0 | Absolute Error (cos): 0.45969769413186023 | Relative Error (cos): 0.8508157176809255\n",
      "x=1.1 | Absolute Error (cos): 0.5464038785744227 | Relative Error (cos): 1.2046043887173594\n",
      "x=1.2000000000000002 | Absolute Error (cos): 0.6376422455233266 | Relative Error (cos): 1.7597036013324079\n",
      "x=1.3 | Absolute Error (cos): 0.7325011713754126 | Relative Error (cos): 2.7383341270754418\n",
      "x=1.4000000000000001 | Absolute Error (cos): 0.8300328570997592 | Relative Error (cos): 4.883490084827349\n",
      "x=1.5 | Absolute Error (cos): 0.9292627983322971 | Relative Error (cos): 13.136832902969903\n"
     ]
    }
   ],
   "source": [
    "# Test values to provide examples for cos(x)\n",
    "\n",
    "x_list = [0.1 * i for i in range(16)] #since we want values between 0 and pi/2\n",
    "n_list = [15, 20, 25, 30, 35]\n",
    "\n",
    "for n in n_list:\n",
    "    print(f\"\\n n = {n}:\")\n",
    "    for x in x_list:\n",
    "        true_result = math.cos(x)\n",
    "        cos_result = cos(n, x)\n",
    "        error_cos = abs(cos_result - true_result)\n",
    "\n",
    "        # Relative Error with warning (an if statement to check that true_result\n",
    "        # is not 0 because we can't divide by 0)\n",
    "        if true_result != 0:\n",
    "            relative_error = error_cos / abs(true_result)\n",
    "        else:\n",
    "            relative_error = float('inf')  # true_result is infinity otherwise\n",
    "\n",
    "        print(f\"x={x} | Absolute Error (cos): {error_cos} | Relative Error (cos): {relative_error}\")"
   ]
  },
  {
   "cell_type": "markdown",
   "id": "dac2148f",
   "metadata": {},
   "source": [
    "# The 'argument halving' philosophy on $ cos(x)$\n",
    "The method to to a reduction the argument of cos(x) is to use the small angle approximation. And the same reduction technique from the notebook."
   ]
  },
  {
   "cell_type": "markdown",
   "id": "af03e415",
   "metadata": {},
   "source": [
    "# Explanation for $cos(x)$\n",
    "As can be seen, the x and n values affect the errors which makes the algorithm not as accurate as the algorithm for sin. As n increases, errors initially decrease, but when n>10, some errors start to increase in size compared to earlier values of n.\n"
   ]
  },
  {
   "cell_type": "markdown",
   "id": "5d1ddaf0",
   "metadata": {},
   "source": [
    "# PART 1.4   $ arctan(x) $ \"argument halving\" function"
   ]
  },
  {
   "cell_type": "code",
   "execution_count": 79,
   "id": "2269c676",
   "metadata": {},
   "outputs": [],
   "source": [
    "def arctan(n, x):\n",
    "    y = x\n",
    "\n",
    "    for i in range(n):\n",
    "        y = y/(1+math.sqrt(1+y**2))\n",
    "\n",
    "    for i in range(n):\n",
    "        y = 2*y\n",
    "\n",
    "    return y"
   ]
  },
  {
   "cell_type": "code",
   "execution_count": 100,
   "id": "313d78f9",
   "metadata": {},
   "outputs": [
    {
     "name": "stdout",
     "output_type": "stream",
     "text": [
      "\n",
      " n = 10:\n",
      "x=0.0 | AbsoluteError(arctan): 0.0 | RelativeError(arctan): inf\n",
      "x=0.1 | AbsoluteError(arctan): 3.147418853322037e-10 | RelativeError(arctan): 3.1578824180462654e-09\n",
      "x=0.2 | AbsoluteError(arctan): 2.4450681201937385e-09 | RelativeError(arctan): 1.2386641938923103e-08\n",
      "x=0.30000000000000004 | AbsoluteError(arctan): 7.870483265115524e-09 | RelativeError(arctan): 2.7003945058872863e-08\n",
      "x=0.4 | AbsoluteError(arctan): 1.7513166361560195e-08 | RelativeError(arctan): 4.6025947040536705e-08\n",
      "x=0.5 | AbsoluteError(arctan): 3.168421430777002e-08 | RelativeError(arctan): 6.833684395796147e-08\n",
      "x=0.6000000000000001 | AbsoluteError(arctan): 5.017321313971479e-08 | RelativeError(arctan): 9.284123373526198e-08\n",
      "x=0.7000000000000001 | AbsoluteError(arctan): 7.241325106210894e-08 | RelativeError(arctan): 1.1856913785306302e-07\n",
      "x=0.8 | AbsoluteError(arctan): 9.765401320915856e-08 | RelativeError(arctan): 1.4472815727966332e-07\n",
      "x=0.9 | AbsoluteError(arctan): 1.2510139490995442e-07 | RelativeError(arctan): 1.7071345091684616e-07\n",
      "x=1.0 | AbsoluteError(arctan): 1.5400987884994777e-07 | RelativeError(arctan): 1.9609146803162507e-07\n",
      "x=1.1 | AbsoluteError(arctan): 1.8373193555465406e-07 | RelativeError(arctan): 2.2057150971495395e-07\n",
      "x=1.2000000000000002 | AbsoluteError(arctan): 2.137359685905338e-07 | RelativeError(arctan): 2.439746640586086e-07\n",
      "x=1.3 | AbsoluteError(arctan): 2.43604683536347e-07 | RelativeError(arctan): 2.662053295217013e-07\n",
      "x=1.4000000000000001 | AbsoluteError(arctan): 2.7302319860478264e-07 | RelativeError(arctan): 2.872275061916279e-07\n",
      "x=1.5 | AbsoluteError(arctan): 3.017630875179478e-07 | RelativeError(arctan): 3.0704620957576705e-07\n",
      "x=1.6 | AbsoluteError(arctan): 3.296659965013049e-07 | RelativeError(arctan): 3.256935090418957e-07\n",
      "x=1.7000000000000002 | AbsoluteError(arctan): 3.566286770340099e-07 | RelativeError(arctan): 3.4321836018722314e-07\n",
      "\n",
      " n = 15:\n",
      "x=0.0 | AbsoluteError(arctan): 0.0 | RelativeError(arctan): inf\n",
      "x=0.1 | AbsoluteError(arctan): 3.0730973321624333e-13 | RelativeError(arctan): 3.083313815680347e-12\n",
      "x=0.2 | AbsoluteError(arctan): 2.3877289034857085e-12 | RelativeError(arctan): 1.2096163182705706e-11\n",
      "x=0.30000000000000004 | AbsoluteError(arctan): 7.685962977177496e-12 | RelativeError(arctan): 2.63708485195776e-11\n",
      "x=0.4 | AbsoluteError(arctan): 1.7102597116291918e-11 | RelativeError(arctan): 4.49469395127679e-11\n",
      "x=0.5 | AbsoluteError(arctan): 3.094180467400065e-11 | RelativeError(arctan): 6.67356071148139e-11\n",
      "x=0.6000000000000001 | AbsoluteError(arctan): 4.8997139678874646e-11 | RelativeError(arctan): 9.066501052301429e-11\n",
      "x=0.7000000000000001 | AbsoluteError(arctan): 7.07160996427092e-11 | RelativeError(arctan): 1.1579022960556928e-10\n",
      "x=0.8 | AbsoluteError(arctan): 9.5365049190832e-11 | RelativeError(arctan): 1.4133579752336415e-10\n",
      "x=0.9 | AbsoluteError(arctan): 1.2216916367435715e-10 | RelativeError(arctan): 1.6671212612366315e-10\n",
      "x=1.0 | AbsoluteError(arctan): 1.5040046985603794e-10 | RelativeError(arctan): 1.914958257674563e-10\n",
      "x=1.1 | AbsoluteError(arctan): 1.7942558550032572e-10 | RelativeError(arctan): 2.15401705510928e-10\n",
      "x=1.2000000000000002 | AbsoluteError(arctan): 2.0872625849932547e-10 | RelativeError(arctan): 2.3825619587286727e-10\n",
      "x=1.3 | AbsoluteError(arctan): 2.378949259806973e-10 | RelativeError(arctan): 2.599658440178687e-10\n",
      "x=1.4000000000000001 | AbsoluteError(arctan): 2.6662416718892246e-10 | RelativeError(arctan): 2.804955587050702e-10\n",
      "x=1.5 | AbsoluteError(arctan): 2.9469049422914395e-10 | RelativeError(arctan): 2.998497927473865e-10\n",
      "x=1.6 | AbsoluteError(arctan): 3.2193936405633394e-10 | RelativeError(arctan): 3.180599828038641e-10\n",
      "x=1.7000000000000002 | AbsoluteError(arctan): 3.4827007944215893e-10 | RelativeError(arctan): 3.351740711446278e-10\n",
      "\n",
      " n = 25:\n",
      "x=0.0 | AbsoluteError(arctan): 0.0 | RelativeError(arctan): inf\n",
      "x=0.1 | AbsoluteError(arctan): 2.7755575615628914e-17 | RelativeError(arctan): 2.784784876878926e-16\n",
      "x=0.2 | AbsoluteError(arctan): 2.7755575615628914e-17 | RelativeError(arctan): 1.406089156044696e-16\n",
      "x=0.30000000000000004 | AbsoluteError(arctan): 1.1102230246251565e-16 | RelativeError(arctan): 3.809219910670037e-16\n",
      "x=0.4 | AbsoluteError(arctan): 1.6653345369377348e-16 | RelativeError(arctan): 4.3766271398020633e-16\n",
      "x=0.5 | AbsoluteError(arctan): 3.885780586188048e-16 | RelativeError(arctan): 8.380892105886589e-16\n",
      "x=0.6000000000000001 | AbsoluteError(arctan): 3.3306690738754696e-16 | RelativeError(arctan): 6.163117859751224e-16\n",
      "x=0.7000000000000001 | AbsoluteError(arctan): 1.1102230246251565e-16 | RelativeError(arctan): 1.8178742830026858e-16\n",
      "x=0.8 | AbsoluteError(arctan): 3.3306690738754696e-16 | RelativeError(arctan): 4.936219021924957e-16\n",
      "x=0.9 | AbsoluteError(arctan): 1.1102230246251565e-16 | RelativeError(arctan): 1.5150111152439123e-16\n",
      "x=1.0 | AbsoluteError(arctan): 4.440892098500626e-16 | RelativeError(arctan): 5.654319433712919e-16\n",
      "x=1.1 | AbsoluteError(arctan): 6.661338147750939e-16 | RelativeError(arctan): 7.996984343171914e-16\n",
      "x=1.2000000000000002 | AbsoluteError(arctan): 2.220446049250313e-16 | RelativeError(arctan): 2.534587802411198e-16\n",
      "x=1.3 | AbsoluteError(arctan): 1.1102230246251565e-16 | RelativeError(arctan): 1.2132249750806722e-16\n",
      "x=1.4000000000000001 | AbsoluteError(arctan): 1.1102230246251565e-16 | RelativeError(arctan): 1.1679834985056245e-16\n",
      "x=1.5 | AbsoluteError(arctan): 4.440892098500626e-16 | RelativeError(arctan): 4.51864108759986e-16\n",
      "x=1.6 | AbsoluteError(arctan): 6.661338147750939e-16 | RelativeError(arctan): 6.581068776521686e-16\n",
      "x=1.7000000000000002 | AbsoluteError(arctan): 6.661338147750939e-16 | RelativeError(arctan): 6.410851686797019e-16\n",
      "\n",
      " n = 30:\n",
      "x=0.0 | AbsoluteError(arctan): 0.0 | RelativeError(arctan): inf\n",
      "x=0.1 | AbsoluteError(arctan): 2.7755575615628914e-17 | RelativeError(arctan): 2.784784876878926e-16\n",
      "x=0.2 | AbsoluteError(arctan): 2.7755575615628914e-17 | RelativeError(arctan): 1.406089156044696e-16\n",
      "x=0.30000000000000004 | AbsoluteError(arctan): 1.1102230246251565e-16 | RelativeError(arctan): 3.809219910670037e-16\n",
      "x=0.4 | AbsoluteError(arctan): 1.6653345369377348e-16 | RelativeError(arctan): 4.3766271398020633e-16\n",
      "x=0.5 | AbsoluteError(arctan): 3.885780586188048e-16 | RelativeError(arctan): 8.380892105886589e-16\n",
      "x=0.6000000000000001 | AbsoluteError(arctan): 3.3306690738754696e-16 | RelativeError(arctan): 6.163117859751224e-16\n",
      "x=0.7000000000000001 | AbsoluteError(arctan): 1.1102230246251565e-16 | RelativeError(arctan): 1.8178742830026858e-16\n",
      "x=0.8 | AbsoluteError(arctan): 3.3306690738754696e-16 | RelativeError(arctan): 4.936219021924957e-16\n",
      "x=0.9 | AbsoluteError(arctan): 1.1102230246251565e-16 | RelativeError(arctan): 1.5150111152439123e-16\n",
      "x=1.0 | AbsoluteError(arctan): 4.440892098500626e-16 | RelativeError(arctan): 5.654319433712919e-16\n",
      "x=1.1 | AbsoluteError(arctan): 6.661338147750939e-16 | RelativeError(arctan): 7.996984343171914e-16\n",
      "x=1.2000000000000002 | AbsoluteError(arctan): 2.220446049250313e-16 | RelativeError(arctan): 2.534587802411198e-16\n",
      "x=1.3 | AbsoluteError(arctan): 1.1102230246251565e-16 | RelativeError(arctan): 1.2132249750806722e-16\n",
      "x=1.4000000000000001 | AbsoluteError(arctan): 1.1102230246251565e-16 | RelativeError(arctan): 1.1679834985056245e-16\n",
      "x=1.5 | AbsoluteError(arctan): 2.220446049250313e-16 | RelativeError(arctan): 2.25932054379993e-16\n",
      "x=1.6 | AbsoluteError(arctan): 4.440892098500626e-16 | RelativeError(arctan): 4.387379184347791e-16\n",
      "x=1.7000000000000002 | AbsoluteError(arctan): 4.440892098500626e-16 | RelativeError(arctan): 4.273901124531346e-16\n",
      "\n",
      " n = 35:\n",
      "x=0.0 | AbsoluteError(arctan): 0.0 | RelativeError(arctan): inf\n",
      "x=0.1 | AbsoluteError(arctan): 2.7755575615628914e-17 | RelativeError(arctan): 2.784784876878926e-16\n",
      "x=0.2 | AbsoluteError(arctan): 2.7755575615628914e-17 | RelativeError(arctan): 1.406089156044696e-16\n",
      "x=0.30000000000000004 | AbsoluteError(arctan): 1.1102230246251565e-16 | RelativeError(arctan): 3.809219910670037e-16\n",
      "x=0.4 | AbsoluteError(arctan): 1.6653345369377348e-16 | RelativeError(arctan): 4.3766271398020633e-16\n",
      "x=0.5 | AbsoluteError(arctan): 3.885780586188048e-16 | RelativeError(arctan): 8.380892105886589e-16\n",
      "x=0.6000000000000001 | AbsoluteError(arctan): 3.3306690738754696e-16 | RelativeError(arctan): 6.163117859751224e-16\n",
      "x=0.7000000000000001 | AbsoluteError(arctan): 1.1102230246251565e-16 | RelativeError(arctan): 1.8178742830026858e-16\n",
      "x=0.8 | AbsoluteError(arctan): 3.3306690738754696e-16 | RelativeError(arctan): 4.936219021924957e-16\n",
      "x=0.9 | AbsoluteError(arctan): 1.1102230246251565e-16 | RelativeError(arctan): 1.5150111152439123e-16\n",
      "x=1.0 | AbsoluteError(arctan): 4.440892098500626e-16 | RelativeError(arctan): 5.654319433712919e-16\n",
      "x=1.1 | AbsoluteError(arctan): 6.661338147750939e-16 | RelativeError(arctan): 7.996984343171914e-16\n",
      "x=1.2000000000000002 | AbsoluteError(arctan): 2.220446049250313e-16 | RelativeError(arctan): 2.534587802411198e-16\n",
      "x=1.3 | AbsoluteError(arctan): 1.1102230246251565e-16 | RelativeError(arctan): 1.2132249750806722e-16\n",
      "x=1.4000000000000001 | AbsoluteError(arctan): 1.1102230246251565e-16 | RelativeError(arctan): 1.1679834985056245e-16\n",
      "x=1.5 | AbsoluteError(arctan): 2.220446049250313e-16 | RelativeError(arctan): 2.25932054379993e-16\n",
      "x=1.6 | AbsoluteError(arctan): 4.440892098500626e-16 | RelativeError(arctan): 4.387379184347791e-16\n",
      "x=1.7000000000000002 | AbsoluteError(arctan): 4.440892098500626e-16 | RelativeError(arctan): 4.273901124531346e-16\n"
     ]
    }
   ],
   "source": [
    "# Test values to provide examples for arctan(x)\n",
    "\n",
    "x_list = [0.1 * i for i in range(18)] #WE CAN CHANGE THIS FOR ANY VALUE OF X SINCE IT GOES TO INFINITY\n",
    "n_list = [10, 15, 25, 30, 35]\n",
    "\n",
    "for n in n_list:\n",
    "    print(f\"\\n n = {n}:\")\n",
    "    for x in x_list:\n",
    "        true_result = math.atan(x)\n",
    "        arctan_result = arctan(n, x)\n",
    "        error_arctan = abs(arctan_result - true_result)\n",
    "\n",
    "        # Relative Error with warning (an if statement to check that true_result\n",
    "        # is not 0 because we can't divide by 0)\n",
    "        if true_result != 0:\n",
    "            relative_error = error_arctan / abs(true_result)\n",
    "        else:\n",
    "            relative_error = float('inf')  # the relative_error is infinite otherwise\n",
    "\n",
    "        print(f\"x={x} | AbsoluteError(arctan): {error_arctan} | RelativeError(arctan): {relative_error}\")"
   ]
  },
  {
   "cell_type": "markdown",
   "id": "42df0dbd",
   "metadata": {},
   "source": [
    "# The 'argument reduction' philosophy on $arctan(x)$\n",
    "We use the argument reducing technique from the power series notes section Inverse trigonometric functions from M. Gantumur thats names this formula the doubling formula: $arctan(x) = 2arctan(\\frac{x}{1+\\sqrt{1+x^2}})$"
   ]
  },
  {
   "cell_type": "markdown",
   "id": "5d1b51b7",
   "metadata": {},
   "source": [
    "# Explanation of $arctan(x)$\n",
    "While consistently demonstrating outstanding relative errors, they diminish with increasing n. The absolute error diminishes as well with the growth of n, except for instances where n surpasses 30; here, the error appears constant between n=30 and n=35. Nevertheless, the relative error remains superb, reaching an order of 10^-16, which is highly satisfactory."
   ]
  },
  {
   "cell_type": "markdown",
   "id": "91031f18",
   "metadata": {},
   "source": [
    "# computing $ \\pi $"
   ]
  },
  {
   "cell_type": "markdown",
   "id": "6a8cda09",
   "metadata": {},
   "source": [
    "Formulas are found on the code's comments and they all derive form the arctangent series"
   ]
  },
  {
   "cell_type": "code",
   "execution_count": 102,
   "id": "746810e3",
   "metadata": {},
   "outputs": [
    {
     "name": "stdout",
     "output_type": "stream",
     "text": [
      "Real value of pi: 3.141592653589793\n",
      "\n",
      " approx1:\n",
      "Approximation of pi: 3.141592653589795\n",
      "Absolute Error: 1.7763568394002505e-15\n",
      "Relative Error: 5.654319433712919e-16\n",
      "\n",
      " approx2:\n",
      "Approximation of pi: 3.1415926535897944\n",
      "Absolute Error: 1.3322676295501878e-15\n",
      "Relative Error: 4.240739575284689e-16\n",
      "\n",
      " approx3:\n",
      "Approximation of pi: 3.141592653589796\n",
      "Absolute Error: 2.6645352591003757e-15\n",
      "Relative Error: 8.481479150569378e-16\n"
     ]
    }
   ],
   "source": [
    "def arctan_pi(n, x):\n",
    "    y = x\n",
    "\n",
    "    for i in range(n):\n",
    "        y = y/(1+math.sqrt(1+y**2))\n",
    "\n",
    "    for i in range(n):\n",
    "        y = 2*y\n",
    "\n",
    "    return y\n",
    "\n",
    "real_pi = math.pi #having the real pi\n",
    "\n",
    "#the approximations\n",
    "\n",
    "approx1 = 4*arctan_pi(35, 1) #from power series notes M. Gantumur formula (130)\n",
    "approx2 = 4*(5*arctan_pi(35, 1/7) + 2*arctan_pi(35, 3/79)) #from power series notes M. Gantumur formula (134)\n",
    "approx3 = 4*(12*arctan_pi(35, 1/18) + 8*arctan_pi(35, 1/57) - 5*arctan_pi(35, 1/239))#from power series notes M. Gantumur formula (135)\n",
    "\n",
    "\n",
    "# Showing results of approximations with error analysis\n",
    "print(f\"Real value of pi: {real_pi}\") \n",
    "\n",
    "print(f\"\\n approx1:\")\n",
    "print(f\"Approximation of pi: {approx1}\")\n",
    "print(f\"Absolute Error: {abs(real_pi - approx1)}\")\n",
    "print(f\"Relative Error: {abs(real_pi - approx1) / real_pi}\")\n",
    "\n",
    "print(f\"\\n approx2:\")\n",
    "print(f\"Approximation of pi: {approx2}\")\n",
    "print(f\"Absolute Error: {abs(real_pi - approx2)}\")\n",
    "print(f\"Relative Error: {abs(real_pi - approx2) / real_pi}\")\n",
    "\n",
    "print(f\"\\n approx3:\")\n",
    "print(f\"Approximation of pi: {approx3}\")\n",
    "print(f\"Absolute Error: {abs(real_pi - approx3)}\")\n",
    "print(f\"Relative Error: {abs(real_pi - approx3) / real_pi}\")"
   ]
  },
  {
   "cell_type": "markdown",
   "id": "303aa975",
   "metadata": {},
   "source": [
    " # Explanation\n",
    " It has been noted that the first approximation provides a great result with zero absolute error. The second approximation shows a remarkably low relative error of the order $10^{-16}$, despite not being absolute perfection. Similar to the second approximation, the third approximation maintains a very good relative error despite being slightly less optimal with n = 35.\n",
    "\n"
   ]
  },
  {
   "cell_type": "markdown",
   "id": "cde0172a",
   "metadata": {},
   "source": [
    "# PART 2.1 CORDIC $ tan(x) $ function"
   ]
  },
  {
   "cell_type": "markdown",
   "id": "29fd983c",
   "metadata": {},
   "source": [
    "I plan to develop a CORDIC algorithm for computing tangent through vector rotations. This approach will enable me to estimate $tan(c)=\\frac{a}{b}$. The c-angle will be broken down into a series of angles, each representing $arctan(2^{-n} ) $ or $0$. Subsequently, the algorithm will iteratively rotate a vector (a, b) to approximate the initial angle c."
   ]
  },
  {
   "cell_type": "code",
   "execution_count": 106,
   "id": "599170f7",
   "metadata": {
    "scrolled": true
   },
   "outputs": [
    {
     "name": "stdout",
     "output_type": "stream",
     "text": [
      "Input: 0.0, TrueTangent: 0.0, CORDIC Tangent: 0.0, Relative Error: 0.0\n",
      "Input: 0.1, TrueTangent: 0.10033467208545054, CORDIC Tangent: 0.10033467208545054, Relative Error: 0.0\n",
      "Input: 0.2, TrueTangent: 0.20271003550867248, CORDIC Tangent: 0.20271003550867248, Relative Error: 0.0\n",
      "Input: 0.30000000000000004, TrueTangent: 0.30933624960962325, CORDIC Tangent: 0.3093362496096232, Relative Error: 1.7945246087812825e-16\n",
      "Input: 0.4, TrueTangent: 0.4227932187381618, CORDIC Tangent: 0.42279321873816167, Relative Error: 2.6259243890870535e-16\n",
      "Input: 0.5, TrueTangent: 0.5463024898437905, CORDIC Tangent: 0.5463024898437899, Relative Error: 1.0161248074694052e-15\n",
      "Input: 0.6000000000000001, TrueTangent: 0.6841368083416925, CORDIC Tangent: 0.6841368083416918, Relative Error: 1.135965946813168e-15\n",
      "Input: 0.7000000000000001, TrueTangent: 0.8422883804630796, CORDIC Tangent: 0.8422883804630787, Relative Error: 1.0544825742601552e-15\n",
      "Input: 0.8, TrueTangent: 1.0296385570503641, CORDIC Tangent: 1.029638557050363, Relative Error: 1.0782648114942832e-15\n",
      "Input: 0.9, TrueTangent: 1.260158217550339, CORDIC Tangent: 1.2601582175503379, Relative Error: 8.810187555522622e-16\n",
      "Input: 1.0, TrueTangent: 1.557407724654902, CORDIC Tangent: 1.5574077145595182, Relative Error: 6.4821714329460676e-09\n",
      "Input: 1.1, TrueTangent: 1.9647596572486525, CORDIC Tangent: 1.9647534237206912, Relative Error: 3.172666915449882e-06\n",
      "Input: 1.2000000000000002, TrueTangent: 2.5721516221263205, CORDIC Tangent: 2.5720127538577366, Relative Error: 5.398914565895355e-05\n",
      "Input: 1.3, TrueTangent: 3.602102447967979, CORDIC Tangent: 3.6006877713557124, Relative Error: 0.00039273636236102446\n",
      "Input: 1.4000000000000001, TrueTangent: 5.797883715482894, CORDIC Tangent: 5.785517209866, Relative Error: 0.002132934398782479\n",
      "Input: 1.5, TrueTangent: 14.10141994717172, CORDIC Tangent: 13.910529624840573, Relative Error: 0.0135369574869965\n",
      "Input: 1.6, TrueTangent: -34.232532735557314, CORDIC Tangent: -32.68198614530991, Relative Error: 0.045294533192306134\n",
      "Input: 1.7000000000000002, TrueTangent: -7.696602139459148, CORDIC Tangent: -7.663262004475646, Relative Error: 0.0043317991991001495\n"
     ]
    }
   ],
   "source": [
    "import math\n",
    "\n",
    "def calculate_approximate_arctan(input_val):\n",
    "    # Initialize result_val with the input value\n",
    "    result_val = input_val\n",
    "    iterations = 35\n",
    "\n",
    "    # Iteratively refine the result using a specific formula\n",
    "    for i in range(iterations):\n",
    "        result_val = result_val / (1 + math.sqrt(1 + result_val**2))\n",
    "\n",
    "    # Scale the result_val by doubling it iteratively\n",
    "    for i in range(iterations):\n",
    "        result_val = 2 * result_val\n",
    "\n",
    "    return result_val\n",
    "\n",
    "# Create a table of arctan values for specific powers of 2\n",
    "arctan_table = [calculate_approximate_arctan(2 ** -i) for i in range(0, 17)]\n",
    "\n",
    "def approximate_tangent_using_cordic(input_angle):\n",
    "    binary_angle_list = []\n",
    "    \n",
    "    # Ensure the angle is within the range [0, pi/2]\n",
    "    sign = 1\n",
    "    if input_angle < 0:\n",
    "        sign = -1\n",
    "        input_angle = abs(input_angle)\n",
    "    if input_angle > math.pi:\n",
    "        input_angle = input_angle - math.pi\n",
    "    if input_angle > math.pi/2:\n",
    "        input_angle = math.pi - input_angle\n",
    "        sign = sign * -1\n",
    "\n",
    "    # Decompose the angle into a sum of angles, where each angle is either 0 or atan(2**-i)\n",
    "    for i in range(1, 17):\n",
    "        if input_angle >= arctan_table[i]:\n",
    "            input_angle -= arctan_table[i]\n",
    "            binary_angle_list.append(1)\n",
    "        else:\n",
    "            binary_angle_list.append(0)\n",
    "\n",
    "    # Approximate tangent of the remaining angle (very small)\n",
    "    remaining_tan = (3 * input_angle) / (3 - input_angle * input_angle)\n",
    "\n",
    "    # Initialize values for vector components\n",
    "    y_value = remaining_tan\n",
    "    x_value = 1\n",
    "\n",
    "    # Rotate the vector for each angle in the original sum of angles\n",
    "    for i in range(16, 0, -1):\n",
    "        if binary_angle_list[i - 1]:\n",
    "            y_temp = y_value + x_value * 2**-i\n",
    "            x_value = x_value - y_value * 2**-i\n",
    "            y_value = y_temp\n",
    "\n",
    "    return (y_value / x_value) * sign\n",
    "\n",
    "# Example usage\n",
    "input_values = [0.1 * i for i in range(18)]\n",
    "for input_val in input_values:\n",
    "    true_result = math.tan(input_val)\n",
    "    cordic_result = approximate_tangent_using_cordic(input_val)\n",
    "    error_cordic = abs(cordic_result - true_result)\n",
    "\n",
    "    # Check if true_result is not zero before calculating relative error\n",
    "    if true_result != 0:\n",
    "        relative_error = error_cordic / abs(true_result)\n",
    "    else:\n",
    "        relative_error = error_cordic\n",
    "\n",
    "    print(f\"Input: {input_val}, TrueTangent: {true_result}, CORDIC Tangent: {cordic_result}, Relative Error: {relative_error}\")\n"
   ]
  },
  {
   "cell_type": "markdown",
   "id": "41b363e9",
   "metadata": {},
   "source": [
    "It is good to see that this CORDIC implementation of tan produces such a small relative error.\n"
   ]
  },
  {
   "cell_type": "markdown",
   "id": "f5c49a88",
   "metadata": {},
   "source": [
    "# PART 2.2 CORDIC $ sin(x) $ and $ cos(x) $ functions"
   ]
  },
  {
   "cell_type": "markdown",
   "id": "72e244b0",
   "metadata": {},
   "source": [
    "cordic tan implementation is use as foundation here"
   ]
  },
  {
   "cell_type": "markdown",
   "id": "1b4a4615",
   "metadata": {},
   "source": [
    "# $sin(x)$"
   ]
  },
  {
   "cell_type": "code",
   "execution_count": 112,
   "id": "93085c70",
   "metadata": {},
   "outputs": [
    {
     "name": "stdout",
     "output_type": "stream",
     "text": [
      "input: 0.0, Truesin: 0.0, CORDICsin: 0.0, Relative Error: 0.0\n",
      "input: 0.1, Truesin: 0.09983341664682815, CORDICsin: 0.09982582536458569, Relative Error: 7.6039491559442e-05\n",
      "input: 0.2, Truesin: 0.19866933079506122, CORDICsin: 0.19866185347469018, Relative Error: 3.763701393223229e-05\n",
      "input: 0.30000000000000004, Truesin: 0.2955202066613396, CORDICsin: 0.2955129180137534, Relative Error: 2.4663787524193624e-05\n",
      "input: 0.4, Truesin: 0.3894183423086505, CORDICsin: 0.38941131515960653, Relative Error: 1.8045244100039024e-05\n",
      "input: 0.5, Truesin: 0.479425538604203, CORDICsin: 0.4794255386042026, Relative Error: 8.105076332606496e-16\n",
      "input: 0.6000000000000001, Truesin: 0.5646424733950355, CORDICsin: 0.564642473395035, Relative Error: 7.864962888460724e-16\n",
      "input: 0.7000000000000001, Truesin: 0.6442176872376911, CORDICsin: 0.6442118519361407, Relative Error: 9.057965445541004e-06\n",
      "input: 0.8, Truesin: 0.7173560908995228, CORDICsin: 0.7173507754282866, Relative Error: 7.409808466952088e-06\n",
      "input: 0.9, Truesin: 0.7833269096274833, CORDICsin: 0.783326909627483, Relative Error: 4.25195283468481e-16\n",
      "input: 1.0, Truesin: 0.8414709848078965, CORDICsin: 0.8414668610130404, Relative Error: 4.9006976242791425e-06\n",
      "input: 1.1, Truesin: 0.8912073600614354, CORDICsin: 0.8912033177592488, Relative Error: 4.5357594290601655e-06\n",
      "input: 1.2000000000000002, Truesin: 0.9320390859672264, CORDICsin: 0.9320297146371158, Relative Error: 1.0054653556573378e-05\n",
      "input: 1.3, Truesin: 0.963558185417193, CORDICsin: 0.9635290535705568, Relative Error: 3.023361440647912e-05\n",
      "input: 1.4000000000000001, Truesin: 0.9854497299884603, CORDICsin: 0.985387525082197, Relative Error: 6.312336831633736e-05\n",
      "input: 1.5, Truesin: 0.9974949866040544, CORDICsin: 0.9974254883774557, Relative Error: 6.96727577903382e-05\n",
      "input: 1.6, Truesin: 0.9995736030415051, CORDICsin: 0.9995319821438469, Relative Error: 4.163865225292198e-05\n",
      "input: 1.7000000000000002, Truesin: 0.9916648104524686, CORDICsin: 0.9915920581045969, Relative Error: 7.336384946283897e-05\n"
     ]
    }
   ],
   "source": [
    "import math\n",
    "\n",
    "def approximate_arctan(x_val):\n",
    "    # Set the initial approximation value\n",
    "    y_val = x_val\n",
    "    iterations = 40\n",
    "\n",
    "    # Refine the approximation iteratively using a specific formula\n",
    "    for i in range(iterations):\n",
    "        y_val = y_val / (1 + math.sqrt(1 + y_val ** 2))\n",
    "\n",
    "    # Scale the approximation by doubling it iteratively\n",
    "    for i in range(iterations):\n",
    "        y_val = 2 * y_val\n",
    "\n",
    "    return y_val\n",
    "\n",
    "# Generate a table of arctan values for specific powers of 2\n",
    "arctan_table = [approximate_arctan(2 ** -i) for i in range(0, 18)]\n",
    "\n",
    "def approximate_sin_using_cordic(z_angle):\n",
    "    binary_angle_list = []\n",
    "    \n",
    "    # Ensure the angle is within the range [0, pi/2]\n",
    "    sign = 1\n",
    "    if z_angle < 0:\n",
    "        sign = -1\n",
    "        z_angle = abs(z_angle)\n",
    "    if z_angle > math.pi:\n",
    "        z_angle = z_angle - math.pi\n",
    "        sign = sign * -1\n",
    "    if z_angle > math.pi/2:\n",
    "        z_angle = math.pi - z_angle\n",
    "\n",
    "    # Decompose the angle into a sum of angles, where each angle is either 0 or atan(2**-i)\n",
    "    for i in range(1, 18):\n",
    "        if z_angle >= arctan_table[i]:\n",
    "            z_angle -= arctan_table[i]\n",
    "            binary_angle_list.append(1)\n",
    "        else:\n",
    "            binary_angle_list.append(0)\n",
    "\n",
    "    # Approximate tangent of the remaining angle (very small)\n",
    "    remaining_tan = (3 * z_angle) / (3 - z_angle * z_angle)\n",
    "\n",
    "    # Initialize values for vector components\n",
    "    y_comp = remaining_tan\n",
    "    x_comp = 1\n",
    "\n",
    "    # Rotate the vector for each angle in the original sum of angles\n",
    "    for i in range(16, 0, -1):\n",
    "        if binary_angle_list[i - 1]:\n",
    "            y_temp = y_comp + x_comp * 2**-i\n",
    "            x_comp = x_comp - y_comp * 2**-i\n",
    "            y_comp = y_temp\n",
    "\n",
    "    # Compute the hypotenuse\n",
    "    hypotenuse = math.sqrt(y_comp**2 + x_comp**2)\n",
    "\n",
    "    return (y_comp / hypotenuse) * sign\n",
    "\n",
    "# Example usage\n",
    "test_values = [0.1 * i for i in range(18)]\n",
    "for input_val in test_values:\n",
    "    true_result = math.sin(input_val)\n",
    "    cordic_result = approximate_sin_using_cordic(input_val)\n",
    "    error_cordic = abs(cordic_result - true_result)\n",
    "\n",
    "    # Check if true_result is not zero before calculating relative error\n",
    "    if true_result != 0:\n",
    "        relative_error = error_cordic / abs(true_result)\n",
    "    else:\n",
    "        relative_error = error_cordic\n",
    "\n",
    "    print(f\"input: {input_val}, Truesin: {true_result}, CORDICsin: {cordic_result}, Relative Error: {relative_error}\")\n"
   ]
  },
  {
   "cell_type": "markdown",
   "id": "dc059f6f",
   "metadata": {},
   "source": [
    "Review: it is ok because the relative error is small\n"
   ]
  },
  {
   "cell_type": "markdown",
   "id": "e313a656",
   "metadata": {},
   "source": [
    "# $cos(x)$"
   ]
  },
  {
   "cell_type": "code",
   "execution_count": 111,
   "id": "c4e83de2",
   "metadata": {},
   "outputs": [
    {
     "name": "stdout",
     "output_type": "stream",
     "text": [
      "input: 0.0, Truecos: 1.0, CORDICcos: 1.0, Relative Error: 0.0\n",
      "input: 0.1, Truecos: 0.9950041652780258, CORDICcos: 0.9950049269175903, Relative Error: 7.654636946322928e-07\n",
      "input: 0.2, Truecos: 0.9800665778412416, CORDICcos: 0.9800680935394239, Relative Error: 1.5465257326046338e-06\n",
      "input: 0.30000000000000004, Truecos: 0.955336489125606, CORDICcos: 0.9553387437380506, Relative Error: 2.360019187264023e-06\n",
      "input: 0.4, Truecos: 0.9210609940028851, CORDICcos: 0.9210639650022499, Relative Error: 3.2256271670313983e-06\n",
      "input: 0.5, Truecos: 0.8775825618903728, CORDICcos: 0.8775825618903729, Relative Error: 1.265092394536259e-16\n",
      "input: 0.6000000000000001, Truecos: 0.8253356149096782, CORDICcos: 0.8253356149096784, Relative Error: 2.6903553041186896e-16\n",
      "input: 0.7000000000000001, Truecos: 0.7648421872844884, CORDICcos: 0.7648471022531286, Relative Error: 6.426121259917413e-06\n",
      "input: 0.8, Truecos: 0.6967067093471654, CORDICcos: 0.6967121823195257, Relative Error: 7.855489672889878e-06\n",
      "input: 0.9, Truecos: 0.6216099682706645, CORDICcos: 0.6216099682706648, Relative Error: 5.358133305264521e-16\n",
      "input: 1.0, Truecos: 0.5403023058681398, CORDICcos: 0.5403087282441961, Relative Error: 1.1886634549863481e-05\n",
      "input: 1.1, Truecos: 0.4535961214255773, CORDICcos: 0.45360406349029453, Relative Error: 1.7509110731048582e-05\n",
      "input: 1.2000000000000002, Truecos: 0.3623577544766734, CORDICcos: 0.36238185803576933, Relative Error: 6.651867884197691e-05\n",
      "input: 1.3, Truecos: 0.26749882862458735, CORDICcos: 0.2676037423606533, Relative Error: 0.00039220259993440204\n",
      "input: 1.4000000000000001, Truecos: 0.16996714290024081, CORDICcos: 0.17032740652162487, Relative Error: 0.002119607444337081\n",
      "input: 1.5, Truecos: 0.0707372016677029, CORDICcos: 0.07171049529179198, Relative Error: 0.013759289329273216\n",
      "input: 1.6, Truecos: -0.029199522301288815, CORDICcos: -0.030591120796605736, Relative Error: 0.04765826238381638\n",
      "input: 1.7000000000000002, Truecos: -0.12884449429552486, CORDICcos: -0.12940320824419124, Relative Error: 0.004336343215293986\n"
     ]
    }
   ],
   "source": [
    "import math\n",
    "\n",
    "def approximate_arctangent(x_val):\n",
    "    # Initialize the y value with the given x\n",
    "    y_value = x_val\n",
    "    iterations = 40\n",
    "\n",
    "    # Refine the approximation iteratively using a specific formula\n",
    "    for i in range(iterations):\n",
    "        y_value = y_value / (1 + math.sqrt(1 + y_value ** 2))\n",
    "\n",
    "    # Scale the approximation by doubling it iteratively\n",
    "    for i in range(iterations):\n",
    "        y_value = 2 * y_value\n",
    "\n",
    "    return y_value\n",
    "\n",
    "# Generate a table of arctangent values for specific powers of 2\n",
    "arctangent_table = [approximate_arctangent(2 ** -i) for i in range(0, 18)]\n",
    "\n",
    "def approximate_cosine_using_cordic(z_angle):\n",
    "    binary_angle_list = []\n",
    "    \n",
    "    # Ensure the angle is within the range [0, pi/2]\n",
    "    sign = 1\n",
    "    if z_angle < 0:\n",
    "        z_angle = abs(z_angle)\n",
    "    if z_angle > math.pi:\n",
    "        z_angle = z_angle - math.pi\n",
    "    if z_angle > math.pi/2:\n",
    "        z_angle = math.pi - z_angle\n",
    "        sign = sign * -1\n",
    "\n",
    "    # Decompose the angle into a sum of angles, where each angle is either 0 or atan(2**-i)\n",
    "    for i in range(1, 18):\n",
    "        if z_angle >= arctangent_table[i]:\n",
    "            z_angle -= arctangent_table[i]\n",
    "            binary_angle_list.append(1)\n",
    "        else:\n",
    "            binary_angle_list.append(0)\n",
    "\n",
    "    # Approximate tangent of the remaining angle (very small)\n",
    "    tan_remaining = (3 * z_angle) / (3 - z_angle * z_angle)\n",
    "\n",
    "    # Initialize values for vector components\n",
    "    y_component = tan_remaining\n",
    "    x_component = 1\n",
    "\n",
    "    # Rotate the vector for each angle in the original sum of angles\n",
    "    for i in range(16, 0, -1):\n",
    "        if binary_angle_list[i - 1]:\n",
    "            y_temp = y_component + x_component * 2**-i\n",
    "            x_component = x_component - y_component * 2**-i\n",
    "            y_component = y_temp\n",
    "\n",
    "    # Calculate the hypotenuse\n",
    "    hypotenuse = math.sqrt(y_component**2 + x_component**2)\n",
    "\n",
    "    return (x_component / hypotenuse) * sign\n",
    "\n",
    "# Example usage\n",
    "test_values = [0.1 * i for i in range(18)]\n",
    "for input_val in test_values:\n",
    "    true_result = math.cos(input_val)\n",
    "    cordic_result = approximate_cosine_using_cordic(input_val)\n",
    "    error_cordic = abs(cordic_result - true_result)\n",
    "\n",
    "    # Check if true_result is not zero before calculating relative error\n",
    "    if true_result != 0:\n",
    "        relative_error = error_cordic / abs(true_result)\n",
    "    else:\n",
    "        relative_error = error_cordic\n",
    "\n",
    "    print(f\"input: {input_val}, Truecos: {true_result}, CORDICcos: {cordic_result}, Relative Error: {relative_error}\")\n"
   ]
  },
  {
   "cell_type": "markdown",
   "id": "03dcd397",
   "metadata": {},
   "source": [
    "Review: The relative error is little so we have here a good implementation with n = 40 precision"
   ]
  },
  {
   "cell_type": "markdown",
   "id": "9f6230c5",
   "metadata": {},
   "source": [
    "# PART 2.3 CORDIC $ arctan(x) $"
   ]
  },
  {
   "cell_type": "code",
   "execution_count": 116,
   "id": "da657fe4",
   "metadata": {},
   "outputs": [
    {
     "name": "stdout",
     "output_type": "stream",
     "text": [
      "input: 0.0, trueArctan: 0.0, CORDICarctan: 0, Error: 0.0\n",
      "input: 0.1, trueArctan: 0.09966865249116204, CORDICarctan: 0.0996400663865651, Error: 2.8586104596939332e-05\n",
      "input: 0.2, trueArctan: 0.19739555984988078, CORDICarctan: 0.19737850147347535, Error: 1.7058376405421072e-05\n",
      "input: 0.30000000000000004, trueArctan: 0.29145679447786715, CORDICarctan: 0.29143132761166196, Error: 2.5466866205192673e-05\n",
      "input: 0.4, trueArctan: 0.3805063771123649, CORDICarctan: 0.3804876707389208, Error: 1.870637344408843e-05\n",
      "input: 0.5, trueArctan: 0.46364760900080615, CORDICarctan: 0.4636323502117452, Error: 1.5258789060945688e-05\n",
      "input: 0.6000000000000001, trueArctan: 0.5404195002705843, CORDICarctan: 0.5403942405955123, Error: 2.525967507194249e-05\n",
      "input: 0.7000000000000001, trueArctan: 0.6107259643892087, CORDICarctan: 0.6107063876261993, Error: 1.9576763009343523e-05\n",
      "input: 0.8, trueArctan: 0.6747409422235527, CORDICarctan: 0.6747119753673413, Error: 2.8966856211454228e-05\n",
      "input: 0.9, trueArctan: 0.7328151017865067, CORDICarctan: 0.732794763639593, Error: 2.0338146913712052e-05\n",
      "input: 1.0, trueArctan: 0.7853981633974483, CORDICarctan: 0.7853729037223766, Error: 2.5259675071720444e-05\n"
     ]
    }
   ],
   "source": [
    "def cordic_arctangent(input_A):\n",
    "    # Handle special case when A is zero\n",
    "    if input_A == 0:\n",
    "        return 0\n",
    "\n",
    "    Y_target = abs(input_A)\n",
    "    X_target = 1.0\n",
    "    current_angle = 0.0\n",
    "    sign_A = 1 if input_A >= 0 else -1\n",
    "\n",
    "    # Iterative rotation process\n",
    "    for i in range(1, 17):\n",
    "        rotation_factor = 1 / (1 << i)\n",
    "        if Y_target >= X_target * approximate_arctangent(2 ** -i):\n",
    "            Y_target, X_target, current_angle = Y_target - X_target * rotation_factor, X_target + Y_target * rotation_factor, current_angle + approximate_arctangent(2 ** -i)\n",
    "\n",
    "    # Clockwise rotation until Y_target becomes negative\n",
    "    while Y_target >= 0:\n",
    "        Y_target, X_target, current_angle = Y_target - X_target, X_target + Y_target, current_angle - approximate_arctangent(2 ** -16)\n",
    "\n",
    "    # Apply sign to determine the correct quadrant\n",
    "    return sign_A * current_angle\n",
    "\n",
    "# Example usage\n",
    "test_values = [0.1 * i for i in range(11)]\n",
    "for input_val in test_values:\n",
    "    true_result = math.atan(input_val)\n",
    "    cordic_result = cordic_arctangent(input_val)\n",
    "    error_cordic = abs(cordic_result - true_result)\n",
    "\n",
    "    print(f\"input: {input_val}, trueArctan: {true_result}, CORDICarctan: {cordic_result}, Error: {error_cordic}\")\n"
   ]
  },
  {
   "cell_type": "markdown",
   "id": "a811533a",
   "metadata": {},
   "source": [
    "Small erorr, thus imlementation is good"
   ]
  },
  {
   "cell_type": "markdown",
   "id": "ca0845ed",
   "metadata": {},
   "source": [
    "# PART 2.4 CORDIC $ arcsin(x) $"
   ]
  },
  {
   "cell_type": "code",
   "execution_count": 120,
   "id": "1fb7e6e7",
   "metadata": {},
   "outputs": [
    {
     "name": "stdout",
     "output_type": "stream",
     "text": [
      "input: 0.0, Truearcsin: 0.0, CORDICarcsin: 0, Relative Error: 0.0\n",
      "input: 0.1, Truearcsin: 0.1001674211615598, CORDICarcsin: 0.1001436063868142, Relative Error: 0.00023774970413970443\n",
      "input: 0.2, Truearcsin: 0.2013579207903308, CORDICarcsin: 0.20133050797261917, Relative Error: 0.00013613975354944882\n",
      "input: 0.30000000000000004, Truearcsin: 0.3046926540153975, CORDICarcsin: 0.3046746876601845, Relative Error: 5.8965501715371595e-05\n",
      "input: 0.4, Truearcsin: 0.41151684606748806, CORDICarcsin: 0.411498622338101, Relative Error: 4.4284285227161725e-05\n",
      "input: 0.5, Truearcsin: 0.5235987755982988, CORDICarcsin: 0.5235725153652221, Relative Error: 5.015335081087244e-05\n",
      "input: 0.6000000000000001, Truearcsin: 0.6435011087932845, CORDICarcsin: 0.6434719636459326, Relative Error: 4.5291526236085466e-05\n",
      "input: 0.7000000000000001, Truearcsin: 0.7753974966107532, CORDICarcsin: 0.7753785583438123, Relative Error: 2.4423946457992152e-05\n",
      "input: 0.8, Truearcsin: 0.9272952180016123, CORDICarcsin: 0.9272655204128007, Relative Error: 3.2026034681329106e-05\n",
      "input: 0.9, Truearcsin: 1.1197695149986342, CORDICarcsin: 0.9578579394967687, Relative Error: 0.1445936626539284\n",
      "input: 1.0, Truearcsin: 1.5707963267948966, CORDICarcsin: 1.5707963267948966, Relative Error: 0.0\n"
     ]
    }
   ],
   "source": [
    "def cordic_arcsine(input_x):\n",
    "\n",
    "    # Watchout cases where potential division by zero is unwanted\n",
    "    if input_x == 1:\n",
    "        return math.pi / 2\n",
    "    elif input_x == -1:\n",
    "        return -math.pi / 2\n",
    "\n",
    "    # Calculate arcsine using the arctangent function\n",
    "    y_val = input_x / math.sqrt(1 - input_x**2)\n",
    "    return cordic_arctangent(y_val)\n",
    "\n",
    "# Test the implementation\n",
    "test_values = [0.1 * i for i in range(11)]\n",
    "for input_val in test_values:\n",
    "    true_result = math.asin(input_val)\n",
    "    cordic_result = cordic_arcsine(input_val)\n",
    "    error_cordic = abs(cordic_result - true_result)\n",
    "\n",
    "    # Check if true_result is not zero before calculating the relative error\n",
    "    if true_result != 0:\n",
    "        relative_error = error_cordic / abs(true_result)\n",
    "    else:\n",
    "        relative_error = error_cordic\n",
    "\n",
    "    print(f\"input: {input_val}, Truearcsin: {true_result}, CORDICarcsin: {cordic_result}, Relative Error: {relative_error}\")\n"
   ]
  },
  {
   "cell_type": "markdown",
   "id": "4bbcb28f",
   "metadata": {},
   "source": [
    "Small error still"
   ]
  },
  {
   "cell_type": "markdown",
   "id": "427faa8c",
   "metadata": {},
   "source": [
    "Summary: for the last arcsin(x) and arctan(x) implementations, we find the methods in the textbook for this class."
   ]
  },
  {
   "cell_type": "code",
   "execution_count": null,
   "id": "089e293e",
   "metadata": {},
   "outputs": [],
   "source": []
  }
 ],
 "metadata": {
  "kernelspec": {
   "display_name": "Python 3",
   "language": "python",
   "name": "python3"
  },
  "language_info": {
   "codemirror_mode": {
    "name": "ipython",
    "version": 3
   },
   "file_extension": ".py",
   "mimetype": "text/x-python",
   "name": "python",
   "nbconvert_exporter": "python",
   "pygments_lexer": "ipython3",
   "version": "3.8.8"
  }
 },
 "nbformat": 4,
 "nbformat_minor": 5
}
